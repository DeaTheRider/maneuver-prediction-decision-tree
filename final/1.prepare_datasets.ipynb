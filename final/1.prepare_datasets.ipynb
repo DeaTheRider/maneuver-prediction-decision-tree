{
 "cells": [
  {
   "cell_type": "code",
   "execution_count": 82,
   "metadata": {
    "collapsed": true
   },
   "outputs": [],
   "source": [
    "import pandas as pd\n",
    "import numpy as np\n",
    "from scipy.spatial.distance import cdist\n",
    "from pathlib import Path\n",
    "\n",
    "import settings"
   ]
  },
  {
   "cell_type": "code",
   "execution_count": null,
   "outputs": [],
   "source": [
    "for name, dataset in settings.DATASETS.items():\n",
    "    for file_num in range(dataset['csv_count']):\n",
    "        num_csv = f\"0{file_num}\"[-2:]\n",
    "        tracks = pd.read_csv(f\"{settings.INITIAL_DATASET_FOLDER}/{dataset['dataset_name']}/data/{num_csv}_tracks.csv\")\n",
    "        tracks = tracks[[\n",
    "            'recordingId', 'frame', 'trackId',\n",
    "            'trackLifetime', 'xCenter', 'yCenter', 'heading', 'width', 'length', 'xVelocity', 'yVelocity',\n",
    "            'xAcceleration', 'yAcceleration', 'lonVelocity', 'latVelocity', 'lonAcceleration', 'latAcceleration'\n",
    "        ]]\n",
    "        tracks_meta = pd.read_csv(f\"{settings.INITIAL_DATASET_FOLDER}/{dataset['dataset_name']}/data/{num_csv}_tracksMeta.csv\")\n",
    "        tracks_meta = tracks_meta[['trackId','class']]\n",
    "        df = pd.merge(tracks,tracks_meta, on=('recordingId', 'trackId'))\n",
    "\n",
    "        neighbours_columns = ['distance', 'yVelocity', 'xVelocity', 'yAcceleration', 'xAcceleration', 'xCenter', 'yCenter']\n",
    "        neighbours_data = []\n",
    "        for frame_id, frame in df.groupby('frame'):\n",
    "            coordinates = np.transpose(np.array([frame['xCenter'].values, frame['yCenter'].values]))\n",
    "            distance_matrix = cdist(coordinates, coordinates, 'euclidean')\n",
    "            for row_index, distances in enumerate(distance_matrix):\n",
    "                sorted_indexes = np.argsort(distances)\n",
    "                neighbours_row = {\n",
    "                    'frame': frame_id,\n",
    "                    'trackId': frame.iloc[row_index]['trackId']\n",
    "                }\n",
    "                for i in range(3):\n",
    "                    if i+1 < len(distances):\n",
    "                        # excluding self\n",
    "                        index = sorted_indexes[i+1]\n",
    "                        for column in neighbours_columns:\n",
    "                            if column == 'distance':\n",
    "                                neighbours_row[f'{i+1}_{column}'] = distances[index]\n",
    "                            else:\n",
    "                                neighbours_row[f'{i+1}_{column}'] = frame.iloc[index][column]\n",
    "                    else:\n",
    "                        for column in neighbours_columns:\n",
    "                            neighbours_row[f'{i+1}_{column}'] = 999999\n",
    "                neighbours_data.append(neighbours_row)\n",
    "        neighbours_df = pd.DataFrame(neighbours_data)\n",
    "        df = pd.merge(df, neighbours_df, on=('frame', 'trackId'))\n",
    "\n",
    "        path = Path(f'{settings.PREPARED_DATASET_FOLDER}/{dataset[\"dataset_name\"]}/')\n",
    "        path.mkdir(parents=True, exist_ok=True)\n",
    "        df.to_csv(f'{settings.PREPARED_DATASET_FOLDER}/{dataset[\"dataset_name\"]}/{num_csv}.csv')"
   ],
   "metadata": {
    "collapsed": false,
    "pycharm": {
     "name": "#%%\n",
     "is_executing": true
    }
   }
  },
  {
   "cell_type": "code",
   "execution_count": null,
   "outputs": [],
   "source": [],
   "metadata": {
    "collapsed": false,
    "pycharm": {
     "name": "#%%\n",
     "is_executing": true
    }
   }
  }
 ],
 "metadata": {
  "kernelspec": {
   "display_name": "Python 3",
   "language": "python",
   "name": "python3"
  },
  "language_info": {
   "codemirror_mode": {
    "name": "ipython",
    "version": 2
   },
   "file_extension": ".py",
   "mimetype": "text/x-python",
   "name": "python",
   "nbconvert_exporter": "python",
   "pygments_lexer": "ipython2",
   "version": "2.7.6"
  }
 },
 "nbformat": 4,
 "nbformat_minor": 0
}