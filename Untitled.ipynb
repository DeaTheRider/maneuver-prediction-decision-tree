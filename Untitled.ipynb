{
 "cells": [
  {
   "cell_type": "code",
   "execution_count": 38,
   "metadata": {},
   "outputs": [],
   "source": [
    "import pandas as pd"
   ]
  },
  {
   "cell_type": "code",
   "execution_count": null,
   "metadata": {},
   "outputs": [],
   "source": []
  },
  {
   "cell_type": "code",
   "execution_count": null,
   "metadata": {},
   "outputs": [],
   "source": []
  },
  {
   "cell_type": "code",
   "execution_count": 39,
   "metadata": {},
   "outputs": [],
   "source": [
    "df = pd.DataFrame()"
   ]
  },
  {
   "cell_type": "code",
   "execution_count": 40,
   "metadata": {},
   "outputs": [],
   "source": [
    "name_dataset = \"rounD-dataset-v1.0\"\n",
    "for i in range(24):\n",
    "    num_csv = f\"0{i}\" if len(str(i)) != 2 else str(i)\n",
    "    path = f\"output3/{name_dataset}_2\" + num_csv + \"concat_dataset.csv\"\n",
    "\n",
    "    df2 = pd.read_csv(path)\n",
    "    df = pd.concat([df, df2], ignore_index=True)"
   ]
  },
  {
   "cell_type": "code",
   "execution_count": 41,
   "metadata": {},
   "outputs": [],
   "source": [
    "    if name_dataset == \"inD-dataset-v1.0\":\n",
    "        count_csv = 33\n",
    "    else:\n",
    "        count_csv = 24"
   ]
  },
  {
   "cell_type": "code",
   "execution_count": 42,
   "metadata": {},
   "outputs": [],
   "source": [
    "class_ = tuple(set(df['class'].to_list()))"
   ]
  },
  {
   "cell_type": "code",
   "execution_count": 43,
   "metadata": {},
   "outputs": [
    {
     "name": "stderr",
     "output_type": "stream",
     "text": [
      "/Users/nikolaj/opt/anaconda3/lib/python3.7/site-packages/ipykernel_launcher.py:5: SettingWithCopyWarning: \n",
      "A value is trying to be set on a copy of a slice from a DataFrame\n",
      "\n",
      "See the caveats in the documentation: http://pandas.pydata.org/pandas-docs/stable/user_guide/indexing.html#returning-a-view-versus-a-copy\n",
      "  \"\"\"\n"
     ]
    }
   ],
   "source": [
    "for i in class_:\n",
    "    if i == 'pedestrian':\n",
    "        continue\n",
    "    df2 = df[df['class'] == i]\n",
    "    df2.dropna(axis=0, inplace=True)\n",
    "    break"
   ]
  },
  {
   "cell_type": "code",
   "execution_count": 45,
   "metadata": {},
   "outputs": [
    {
     "data": {
      "text/plain": [
       "slower             3049\n",
       "faster             1453\n",
       "still              1435\n",
       "easy-turn-right     860\n",
       "easy-turn-left      127\n",
       "turn-left             1\n",
       "turn-right            1\n",
       "Name: label, dtype: int64"
      ]
     },
     "execution_count": 45,
     "metadata": {},
     "output_type": "execute_result"
    }
   ],
   "source": [
    "df2['label'].value_counts()"
   ]
  },
  {
   "cell_type": "code",
   "execution_count": 46,
   "metadata": {},
   "outputs": [],
   "source": [
    "column = ['trackLifetime', 'xCenter', 'yCenter', 'heading', 'width', 'length', 'xVelocity', 'yVelocity', \n",
    "         'xAcceleration', 'yAcceleration', 'lonVelocity','latVelocity', 'lonAcceleration', 'latAcceleration', \n",
    "          'label']\n",
    "column2 = ['1_yVelocity', '1_xVelocity', '1_yAcceleration', '1_xAcceleration', '1_xCenter', '1_yCenter',\n",
    "           '2_yVelocity', '2_xVelocity', '2_yAcceleration', '2_xAcceleration', '2_xCenter', '2_yCenter',\n",
    "           '3_yVelocity', '3_xVelocity', '3_yAcceleration', '3_xAcceleration', '3_xCenter', '3_yCenter',\n",
    "          '3_distance', '2_distance', '1_distance']\n"
   ]
  },
  {
   "cell_type": "code",
   "execution_count": 47,
   "metadata": {},
   "outputs": [],
   "source": [
    "column.extend(column2)"
   ]
  },
  {
   "cell_type": "code",
   "execution_count": 48,
   "metadata": {},
   "outputs": [
    {
     "data": {
      "text/plain": [
       "slower             3049\n",
       "faster             1453\n",
       "still              1435\n",
       "easy-turn-right     860\n",
       "easy-turn-left      127\n",
       "turn-left             1\n",
       "turn-right            1\n",
       "Name: label, dtype: int64"
      ]
     },
     "execution_count": 48,
     "metadata": {},
     "output_type": "execute_result"
    }
   ],
   "source": [
    "df2['label'].value_counts()"
   ]
  },
  {
   "cell_type": "code",
   "execution_count": 49,
   "metadata": {},
   "outputs": [
    {
     "name": "stdout",
     "output_type": "stream",
     "text": [
      "truck\n"
     ]
    }
   ],
   "source": [
    "print(i)"
   ]
  },
  {
   "cell_type": "code",
   "execution_count": 50,
   "metadata": {},
   "outputs": [],
   "source": [
    "df2 = df2[column]"
   ]
  },
  {
   "cell_type": "code",
   "execution_count": 51,
   "metadata": {},
   "outputs": [],
   "source": [
    "df2.at[df2['label']=='turn-right', 'label'] = 'easy-turn-right'"
   ]
  },
  {
   "cell_type": "code",
   "execution_count": 52,
   "metadata": {},
   "outputs": [],
   "source": [
    "df2.at[df2['label']=='turn-left', 'label'] = 'easy-turn-left'"
   ]
  },
  {
   "cell_type": "code",
   "execution_count": 53,
   "metadata": {},
   "outputs": [
    {
     "data": {
      "text/plain": [
       "slower             3049\n",
       "faster             1453\n",
       "still              1435\n",
       "easy-turn-right     861\n",
       "easy-turn-left      128\n",
       "Name: label, dtype: int64"
      ]
     },
     "execution_count": 53,
     "metadata": {},
     "output_type": "execute_result"
    }
   ],
   "source": [
    "df2['label'].value_counts()"
   ]
  },
  {
   "cell_type": "code",
   "execution_count": 54,
   "metadata": {},
   "outputs": [],
   "source": [
    "X = df2.drop('label', axis=1)"
   ]
  },
  {
   "cell_type": "code",
   "execution_count": 55,
   "metadata": {},
   "outputs": [],
   "source": [
    "y = df2['label']"
   ]
  },
  {
   "cell_type": "code",
   "execution_count": 56,
   "metadata": {},
   "outputs": [],
   "source": [
    "y,class_names = pd.factorize(y)"
   ]
  },
  {
   "cell_type": "code",
   "execution_count": 57,
   "metadata": {},
   "outputs": [
    {
     "data": {
      "text/plain": [
       "Index(['faster', 'slower', 'easy-turn-right', 'still', 'easy-turn-left'], dtype='object')"
      ]
     },
     "execution_count": 57,
     "metadata": {},
     "output_type": "execute_result"
    }
   ],
   "source": [
    "class_names"
   ]
  },
  {
   "cell_type": "code",
   "execution_count": 58,
   "metadata": {},
   "outputs": [
    {
     "data": {
      "text/plain": [
       "(6926, 6926)"
      ]
     },
     "execution_count": 58,
     "metadata": {},
     "output_type": "execute_result"
    }
   ],
   "source": [
    "len(y), len(X)"
   ]
  },
  {
   "cell_type": "code",
   "execution_count": 59,
   "metadata": {},
   "outputs": [],
   "source": [
    "from sklearn.model_selection import train_test_split\n",
    "X_train, X_test, y_train, y_test = train_test_split(X, y, test_size = 0.25, stratify=y, random_state = 42)"
   ]
  },
  {
   "cell_type": "code",
   "execution_count": 60,
   "metadata": {},
   "outputs": [
    {
     "data": {
      "text/plain": [
       "DecisionTreeClassifier(class_weight=None, criterion='entropy', max_depth=3,\n",
       "                       max_features=None, max_leaf_nodes=None,\n",
       "                       min_impurity_decrease=0.0, min_impurity_split=None,\n",
       "                       min_samples_leaf=1, min_samples_split=2,\n",
       "                       min_weight_fraction_leaf=0.0, presort=False,\n",
       "                       random_state=42, splitter='best')"
      ]
     },
     "execution_count": 60,
     "metadata": {},
     "output_type": "execute_result"
    }
   ],
   "source": [
    "from sklearn.tree import DecisionTreeClassifier\n",
    "classifier = DecisionTreeClassifier(criterion='entropy',max_depth=3, random_state=42)\n",
    "classifier.fit(X_train, y_train)"
   ]
  },
  {
   "cell_type": "code",
   "execution_count": 61,
   "metadata": {},
   "outputs": [
    {
     "name": "stdout",
     "output_type": "stream",
     "text": [
      "Accuracy: 0.83\n",
      "Confusion Matrix: \n",
      " [[ 820  259   11    0    0]\n",
      " [ 250 1955   81    0    0]\n",
      " [   6  164  476    0    0]\n",
      " [   0    0    0 1076    0]\n",
      " [  35   59    2    0    0]]\n",
      "                 precision    recall  f1-score   support\n",
      "\n",
      "         faster       0.74      0.75      0.75      1090\n",
      "         slower       0.80      0.86      0.83      2286\n",
      "easy-turn-right       0.84      0.74      0.78       646\n",
      "          still       1.00      1.00      1.00      1076\n",
      " easy-turn-left       0.00      0.00      0.00        96\n",
      "\n",
      "       accuracy                           0.83      5194\n",
      "      macro avg       0.68      0.67      0.67      5194\n",
      "   weighted avg       0.82      0.83      0.83      5194\n",
      "\n"
     ]
    },
    {
     "name": "stderr",
     "output_type": "stream",
     "text": [
      "/Users/nikolaj/opt/anaconda3/lib/python3.7/site-packages/sklearn/metrics/classification.py:1437: UndefinedMetricWarning: Precision and F-score are ill-defined and being set to 0.0 in labels with no predicted samples.\n",
      "  'precision', 'predicted', average, warn_for)\n"
     ]
    }
   ],
   "source": [
    "y_pred_train =classifier.predict(X_train)\n",
    "\n",
    "from sklearn import metrics\n",
    "from sklearn.metrics import confusion_matrix, classification_report\n",
    "\n",
    "accuracy = metrics.accuracy_score(y_train, y_pred_train)\n",
    "print(\"Accuracy: {:.2f}\".format(accuracy))\n",
    "cm=confusion_matrix(y_train,y_pred_train)\n",
    "print('Confusion Matrix: \\n', cm)\n",
    "print(classification_report(y_train, y_pred_train, target_names=class_names))"
   ]
  },
  {
   "cell_type": "code",
   "execution_count": 62,
   "metadata": {},
   "outputs": [
    {
     "name": "stdout",
     "output_type": "stream",
     "text": [
      "Accuracy: 0.83\n",
      "Confusion Matrix: \n",
      " [[262  94   7   0   0]\n",
      " [ 81 655  27   0   0]\n",
      " [  2  59 154   0   0]\n",
      " [  0   0   0 359   0]\n",
      " [  9  23   0   0   0]]\n",
      "                 precision    recall  f1-score   support\n",
      "\n",
      "         faster       0.74      0.72      0.73       363\n",
      "         slower       0.79      0.86      0.82       763\n",
      "easy-turn-right       0.82      0.72      0.76       215\n",
      "          still       1.00      1.00      1.00       359\n",
      " easy-turn-left       0.00      0.00      0.00        32\n",
      "\n",
      "       accuracy                           0.83      1732\n",
      "      macro avg       0.67      0.66      0.66      1732\n",
      "   weighted avg       0.81      0.83      0.82      1732\n",
      "\n"
     ]
    },
    {
     "name": "stderr",
     "output_type": "stream",
     "text": [
      "/Users/nikolaj/opt/anaconda3/lib/python3.7/site-packages/sklearn/metrics/classification.py:1437: UndefinedMetricWarning: Precision and F-score are ill-defined and being set to 0.0 in labels with no predicted samples.\n",
      "  'precision', 'predicted', average, warn_for)\n"
     ]
    }
   ],
   "source": [
    "# Predicting the test results\n",
    "y_pred=classifier.predict(X_test)\n",
    "\n",
    "from sklearn import metrics\n",
    "accuracy = metrics.accuracy_score(y_test, y_pred)\n",
    "print(\"Accuracy: {:.2f}\".format(accuracy))\n",
    "\n",
    "from sklearn.metrics import confusion_matrix, classification_report\n",
    "cm=confusion_matrix(y_test,y_pred)\n",
    "print('Confusion Matrix: \\n', cm)\n",
    "print(classification_report(y_test, y_pred, target_names=class_names))"
   ]
  },
  {
   "cell_type": "code",
   "execution_count": 63,
   "metadata": {},
   "outputs": [],
   "source": [
    "column3 = ['trackLifetime', 'xCenter', 'yCenter', 'heading', 'width', 'length', 'xVelocity', 'yVelocity', \n",
    "         'xAcceleration', 'yAcceleration', 'lonVelocity','latVelocity', 'lonAcceleration', 'latAcceleration', \n",
    "          '1_yVelocity', '1_xVelocity', '1_yAcceleration', '1_xAcceleration', '1_xCenter', '1_yCenter',\n",
    "           '2_yVelocity', '2_xVelocity', '2_yAcceleration', '2_xAcceleration', '2_xCenter', '2_yCenter',\n",
    "           '3_yVelocity', '3_xVelocity', '3_yAcceleration', '3_xAcceleration', '3_xCenter', '3_yCenter',\n",
    "          '3_distance', '2_distance', '1_distance']"
   ]
  },
  {
   "cell_type": "code",
   "execution_count": 64,
   "metadata": {},
   "outputs": [],
   "source": [
    "import graphviz\n",
    "from sklearn import tree\n",
    "feature_names = column3\n",
    "dot_data = tree.export_graphviz(classifier, out_file='tree.dot', filled=True, rounded = True, feature_names=feature_names, class_names=class_names)\n"
   ]
  },
  {
   "cell_type": "code",
   "execution_count": 71,
   "metadata": {},
   "outputs": [],
   "source": [
    "g = graphviz.Source(dot_data)"
   ]
  },
  {
   "cell_type": "code",
   "execution_count": 81,
   "metadata": {},
   "outputs": [
    {
     "data": {
      "image/svg+xml": [
       "<?xml version=\"1.0\" encoding=\"UTF-8\" standalone=\"no\"?>\n",
       "<!DOCTYPE svg PUBLIC \"-//W3C//DTD SVG 1.1//EN\"\n",
       " \"http://www.w3.org/Graphics/SVG/1.1/DTD/svg11.dtd\">\n",
       "<!-- Generated by graphviz version 2.48.0 (20210717.1556)\n",
       " -->\n",
       "<!-- Title: Tree Pages: 1 -->\n",
       "<svg width=\"1391pt\" height=\"433pt\"\n",
       " viewBox=\"0.00 0.00 1391.00 433.00\" xmlns=\"http://www.w3.org/2000/svg\" xmlns:xlink=\"http://www.w3.org/1999/xlink\">\n",
       "<g id=\"graph0\" class=\"graph\" transform=\"scale(1 1) rotate(0) translate(4 429)\">\n",
       "<title>Tree</title>\n",
       "<polygon fill=\"white\" stroke=\"transparent\" points=\"-4,4 -4,-429 1387,-429 1387,4 -4,4\"/>\n",
       "<!-- 0 -->\n",
       "<g id=\"node1\" class=\"node\">\n",
       "<title>0</title>\n",
       "<polygon fill=\"none\" stroke=\"black\" points=\"741,-425 523,-425 523,-342 741,-342 741,-425\"/>\n",
       "<text text-anchor=\"middle\" x=\"632\" y=\"-409.8\" font-family=\"Times,serif\" font-size=\"14.00\">lonVelocity &lt;= 0.0</text>\n",
       "<text text-anchor=\"middle\" x=\"632\" y=\"-394.8\" font-family=\"Times,serif\" font-size=\"14.00\">entropy = 1.945</text>\n",
       "<text text-anchor=\"middle\" x=\"632\" y=\"-379.8\" font-family=\"Times,serif\" font-size=\"14.00\">samples = 5194</text>\n",
       "<text text-anchor=\"middle\" x=\"632\" y=\"-364.8\" font-family=\"Times,serif\" font-size=\"14.00\">value = [1090, 2286, 646, 1076, 96]</text>\n",
       "<text text-anchor=\"middle\" x=\"632\" y=\"-349.8\" font-family=\"Times,serif\" font-size=\"14.00\">class = slower</text>\n",
       "</g>\n",
       "<!-- 1 -->\n",
       "<g id=\"node2\" class=\"node\">\n",
       "<title>1</title>\n",
       "<polygon fill=\"none\" stroke=\"black\" points=\"555.5,-306 386.5,-306 386.5,-223 555.5,-223 555.5,-306\"/>\n",
       "<text text-anchor=\"middle\" x=\"471\" y=\"-290.8\" font-family=\"Times,serif\" font-size=\"14.00\">lonVelocity &lt;= &#45;0.0</text>\n",
       "<text text-anchor=\"middle\" x=\"471\" y=\"-275.8\" font-family=\"Times,serif\" font-size=\"14.00\">entropy = 0.472</text>\n",
       "<text text-anchor=\"middle\" x=\"471\" y=\"-260.8\" font-family=\"Times,serif\" font-size=\"14.00\">samples = 1169</text>\n",
       "<text text-anchor=\"middle\" x=\"471\" y=\"-245.8\" font-family=\"Times,serif\" font-size=\"14.00\">value = [14, 75, 2, 1076, 2]</text>\n",
       "<text text-anchor=\"middle\" x=\"471\" y=\"-230.8\" font-family=\"Times,serif\" font-size=\"14.00\">class = still</text>\n",
       "</g>\n",
       "<!-- 0&#45;&gt;1 -->\n",
       "<g id=\"edge1\" class=\"edge\">\n",
       "<title>0&#45;&gt;1</title>\n",
       "<path fill=\"none\" stroke=\"black\" d=\"M576.14,-341.91C562.9,-332.29 548.68,-321.95 535.11,-312.09\"/>\n",
       "<polygon fill=\"black\" stroke=\"black\" points=\"536.91,-309.07 526.76,-306.02 532.79,-314.73 536.91,-309.07\"/>\n",
       "<text text-anchor=\"middle\" x=\"530.67\" y=\"-327.01\" font-family=\"Times,serif\" font-size=\"14.00\">True</text>\n",
       "</g>\n",
       "<!-- 8 -->\n",
       "<g id=\"node9\" class=\"node\">\n",
       "<title>8</title>\n",
       "<polygon fill=\"none\" stroke=\"black\" points=\"919.5,-306 722.5,-306 722.5,-223 919.5,-223 919.5,-306\"/>\n",
       "<text text-anchor=\"middle\" x=\"821\" y=\"-290.8\" font-family=\"Times,serif\" font-size=\"14.00\">latAcceleration &lt;= &#45;1.226</text>\n",
       "<text text-anchor=\"middle\" x=\"821\" y=\"-275.8\" font-family=\"Times,serif\" font-size=\"14.00\">entropy = 1.533</text>\n",
       "<text text-anchor=\"middle\" x=\"821\" y=\"-260.8\" font-family=\"Times,serif\" font-size=\"14.00\">samples = 4025</text>\n",
       "<text text-anchor=\"middle\" x=\"821\" y=\"-245.8\" font-family=\"Times,serif\" font-size=\"14.00\">value = [1076, 2211, 644, 0, 94]</text>\n",
       "<text text-anchor=\"middle\" x=\"821\" y=\"-230.8\" font-family=\"Times,serif\" font-size=\"14.00\">class = slower</text>\n",
       "</g>\n",
       "<!-- 0&#45;&gt;8 -->\n",
       "<g id=\"edge8\" class=\"edge\">\n",
       "<title>0&#45;&gt;8</title>\n",
       "<path fill=\"none\" stroke=\"black\" d=\"M697.57,-341.91C713.41,-332.11 730.44,-321.56 746.64,-311.53\"/>\n",
       "<polygon fill=\"black\" stroke=\"black\" points=\"748.88,-314.26 755.54,-306.02 745.2,-308.31 748.88,-314.26\"/>\n",
       "<text text-anchor=\"middle\" x=\"749.82\" y=\"-326.66\" font-family=\"Times,serif\" font-size=\"14.00\">False</text>\n",
       "</g>\n",
       "<!-- 2 -->\n",
       "<g id=\"node3\" class=\"node\">\n",
       "<title>2</title>\n",
       "<polygon fill=\"none\" stroke=\"black\" points=\"308,-187 160,-187 160,-104 308,-104 308,-187\"/>\n",
       "<text text-anchor=\"middle\" x=\"234\" y=\"-171.8\" font-family=\"Times,serif\" font-size=\"14.00\">xVelocity &lt;= &#45;5.905</text>\n",
       "<text text-anchor=\"middle\" x=\"234\" y=\"-156.8\" font-family=\"Times,serif\" font-size=\"14.00\">entropy = 0.906</text>\n",
       "<text text-anchor=\"middle\" x=\"234\" y=\"-141.8\" font-family=\"Times,serif\" font-size=\"14.00\">samples = 88</text>\n",
       "<text text-anchor=\"middle\" x=\"234\" y=\"-126.8\" font-family=\"Times,serif\" font-size=\"14.00\">value = [13, 71, 2, 0, 2]</text>\n",
       "<text text-anchor=\"middle\" x=\"234\" y=\"-111.8\" font-family=\"Times,serif\" font-size=\"14.00\">class = slower</text>\n",
       "</g>\n",
       "<!-- 1&#45;&gt;2 -->\n",
       "<g id=\"edge2\" class=\"edge\">\n",
       "<title>1&#45;&gt;2</title>\n",
       "<path fill=\"none\" stroke=\"black\" d=\"M388.77,-222.91C365.64,-211.49 340.47,-199.06 317.27,-187.61\"/>\n",
       "<polygon fill=\"black\" stroke=\"black\" points=\"318.67,-184.39 308.15,-183.11 315.57,-190.67 318.67,-184.39\"/>\n",
       "</g>\n",
       "<!-- 5 -->\n",
       "<g id=\"node6\" class=\"node\">\n",
       "<title>5</title>\n",
       "<polygon fill=\"none\" stroke=\"black\" points=\"555,-187 387,-187 387,-104 555,-104 555,-187\"/>\n",
       "<text text-anchor=\"middle\" x=\"471\" y=\"-171.8\" font-family=\"Times,serif\" font-size=\"14.00\">3_yAcceleration &lt;= &#45;0.001</text>\n",
       "<text text-anchor=\"middle\" x=\"471\" y=\"-156.8\" font-family=\"Times,serif\" font-size=\"14.00\">entropy = 0.046</text>\n",
       "<text text-anchor=\"middle\" x=\"471\" y=\"-141.8\" font-family=\"Times,serif\" font-size=\"14.00\">samples = 1081</text>\n",
       "<text text-anchor=\"middle\" x=\"471\" y=\"-126.8\" font-family=\"Times,serif\" font-size=\"14.00\">value = [1, 4, 0, 1076, 0]</text>\n",
       "<text text-anchor=\"middle\" x=\"471\" y=\"-111.8\" font-family=\"Times,serif\" font-size=\"14.00\">class = still</text>\n",
       "</g>\n",
       "<!-- 1&#45;&gt;5 -->\n",
       "<g id=\"edge5\" class=\"edge\">\n",
       "<title>1&#45;&gt;5</title>\n",
       "<path fill=\"none\" stroke=\"black\" d=\"M471,-222.91C471,-214.65 471,-205.86 471,-197.3\"/>\n",
       "<polygon fill=\"black\" stroke=\"black\" points=\"474.5,-197.02 471,-187.02 467.5,-197.02 474.5,-197.02\"/>\n",
       "</g>\n",
       "<!-- 3 -->\n",
       "<g id=\"node4\" class=\"node\">\n",
       "<title>3</title>\n",
       "<polygon fill=\"none\" stroke=\"black\" points=\"142,-68 0,-68 0,0 142,0 142,-68\"/>\n",
       "<text text-anchor=\"middle\" x=\"71\" y=\"-52.8\" font-family=\"Times,serif\" font-size=\"14.00\">entropy = 1.0</text>\n",
       "<text text-anchor=\"middle\" x=\"71\" y=\"-37.8\" font-family=\"Times,serif\" font-size=\"14.00\">samples = 4</text>\n",
       "<text text-anchor=\"middle\" x=\"71\" y=\"-22.8\" font-family=\"Times,serif\" font-size=\"14.00\">value = [0, 0, 2, 0, 2]</text>\n",
       "<text text-anchor=\"middle\" x=\"71\" y=\"-7.8\" font-family=\"Times,serif\" font-size=\"14.00\">class = easy&#45;turn&#45;right</text>\n",
       "</g>\n",
       "<!-- 2&#45;&gt;3 -->\n",
       "<g id=\"edge3\" class=\"edge\">\n",
       "<title>2&#45;&gt;3</title>\n",
       "<path fill=\"none\" stroke=\"black\" d=\"M173.3,-103.73C158.7,-93.92 143.14,-83.46 128.68,-73.75\"/>\n",
       "<polygon fill=\"black\" stroke=\"black\" points=\"130.56,-70.8 120.31,-68.13 126.66,-76.61 130.56,-70.8\"/>\n",
       "</g>\n",
       "<!-- 4 -->\n",
       "<g id=\"node5\" class=\"node\">\n",
       "<title>4</title>\n",
       "<polygon fill=\"none\" stroke=\"black\" points=\"308,-68 160,-68 160,0 308,0 308,-68\"/>\n",
       "<text text-anchor=\"middle\" x=\"234\" y=\"-52.8\" font-family=\"Times,serif\" font-size=\"14.00\">entropy = 0.622</text>\n",
       "<text text-anchor=\"middle\" x=\"234\" y=\"-37.8\" font-family=\"Times,serif\" font-size=\"14.00\">samples = 84</text>\n",
       "<text text-anchor=\"middle\" x=\"234\" y=\"-22.8\" font-family=\"Times,serif\" font-size=\"14.00\">value = [13, 71, 0, 0, 0]</text>\n",
       "<text text-anchor=\"middle\" x=\"234\" y=\"-7.8\" font-family=\"Times,serif\" font-size=\"14.00\">class = slower</text>\n",
       "</g>\n",
       "<!-- 2&#45;&gt;4 -->\n",
       "<g id=\"edge4\" class=\"edge\">\n",
       "<title>2&#45;&gt;4</title>\n",
       "<path fill=\"none\" stroke=\"black\" d=\"M234,-103.73C234,-95.52 234,-86.86 234,-78.56\"/>\n",
       "<polygon fill=\"black\" stroke=\"black\" points=\"237.5,-78.3 234,-68.3 230.5,-78.3 237.5,-78.3\"/>\n",
       "</g>\n",
       "<!-- 6 -->\n",
       "<g id=\"node7\" class=\"node\">\n",
       "<title>6</title>\n",
       "<polygon fill=\"none\" stroke=\"black\" points=\"460,-68 326,-68 326,0 460,0 460,-68\"/>\n",
       "<text text-anchor=\"middle\" x=\"393\" y=\"-52.8\" font-family=\"Times,serif\" font-size=\"14.00\">entropy = 0.722</text>\n",
       "<text text-anchor=\"middle\" x=\"393\" y=\"-37.8\" font-family=\"Times,serif\" font-size=\"14.00\">samples = 5</text>\n",
       "<text text-anchor=\"middle\" x=\"393\" y=\"-22.8\" font-family=\"Times,serif\" font-size=\"14.00\">value = [1, 4, 0, 0, 0]</text>\n",
       "<text text-anchor=\"middle\" x=\"393\" y=\"-7.8\" font-family=\"Times,serif\" font-size=\"14.00\">class = slower</text>\n",
       "</g>\n",
       "<!-- 5&#45;&gt;6 -->\n",
       "<g id=\"edge6\" class=\"edge\">\n",
       "<title>5&#45;&gt;6</title>\n",
       "<path fill=\"none\" stroke=\"black\" d=\"M441.96,-103.73C435.65,-94.88 428.98,-85.51 422.65,-76.63\"/>\n",
       "<polygon fill=\"black\" stroke=\"black\" points=\"425.37,-74.41 416.72,-68.3 419.67,-78.48 425.37,-74.41\"/>\n",
       "</g>\n",
       "<!-- 7 -->\n",
       "<g id=\"node8\" class=\"node\">\n",
       "<title>7</title>\n",
       "<polygon fill=\"none\" stroke=\"black\" points=\"633.5,-68 478.5,-68 478.5,0 633.5,0 633.5,-68\"/>\n",
       "<text text-anchor=\"middle\" x=\"556\" y=\"-52.8\" font-family=\"Times,serif\" font-size=\"14.00\">entropy = 0.0</text>\n",
       "<text text-anchor=\"middle\" x=\"556\" y=\"-37.8\" font-family=\"Times,serif\" font-size=\"14.00\">samples = 1076</text>\n",
       "<text text-anchor=\"middle\" x=\"556\" y=\"-22.8\" font-family=\"Times,serif\" font-size=\"14.00\">value = [0, 0, 0, 1076, 0]</text>\n",
       "<text text-anchor=\"middle\" x=\"556\" y=\"-7.8\" font-family=\"Times,serif\" font-size=\"14.00\">class = still</text>\n",
       "</g>\n",
       "<!-- 5&#45;&gt;7 -->\n",
       "<g id=\"edge7\" class=\"edge\">\n",
       "<title>5&#45;&gt;7</title>\n",
       "<path fill=\"none\" stroke=\"black\" d=\"M502.65,-103.73C509.59,-94.79 516.94,-85.32 523.9,-76.36\"/>\n",
       "<polygon fill=\"black\" stroke=\"black\" points=\"526.78,-78.35 530.15,-68.3 521.25,-74.05 526.78,-78.35\"/>\n",
       "</g>\n",
       "<!-- 9 -->\n",
       "<g id=\"node10\" class=\"node\">\n",
       "<title>9</title>\n",
       "<polygon fill=\"none\" stroke=\"black\" points=\"905.5,-187 736.5,-187 736.5,-104 905.5,-104 905.5,-187\"/>\n",
       "<text text-anchor=\"middle\" x=\"821\" y=\"-171.8\" font-family=\"Times,serif\" font-size=\"14.00\">latAcceleration &lt;= &#45;1.7</text>\n",
       "<text text-anchor=\"middle\" x=\"821\" y=\"-156.8\" font-family=\"Times,serif\" font-size=\"14.00\">entropy = 1.232</text>\n",
       "<text text-anchor=\"middle\" x=\"821\" y=\"-141.8\" font-family=\"Times,serif\" font-size=\"14.00\">samples = 997</text>\n",
       "<text text-anchor=\"middle\" x=\"821\" y=\"-126.8\" font-family=\"Times,serif\" font-size=\"14.00\">value = [85, 278, 634, 0, 0]</text>\n",
       "<text text-anchor=\"middle\" x=\"821\" y=\"-111.8\" font-family=\"Times,serif\" font-size=\"14.00\">class = easy&#45;turn&#45;right</text>\n",
       "</g>\n",
       "<!-- 8&#45;&gt;9 -->\n",
       "<g id=\"edge9\" class=\"edge\">\n",
       "<title>8&#45;&gt;9</title>\n",
       "<path fill=\"none\" stroke=\"black\" d=\"M821,-222.91C821,-214.65 821,-205.86 821,-197.3\"/>\n",
       "<polygon fill=\"black\" stroke=\"black\" points=\"824.5,-197.02 821,-187.02 817.5,-197.02 824.5,-197.02\"/>\n",
       "</g>\n",
       "<!-- 12 -->\n",
       "<g id=\"node13\" class=\"node\">\n",
       "<title>12</title>\n",
       "<polygon fill=\"none\" stroke=\"black\" points=\"1195.5,-187 1012.5,-187 1012.5,-104 1195.5,-104 1195.5,-187\"/>\n",
       "<text text-anchor=\"middle\" x=\"1104\" y=\"-171.8\" font-family=\"Times,serif\" font-size=\"14.00\">lonAcceleration &lt;= 0.021</text>\n",
       "<text text-anchor=\"middle\" x=\"1104\" y=\"-156.8\" font-family=\"Times,serif\" font-size=\"14.00\">entropy = 1.123</text>\n",
       "<text text-anchor=\"middle\" x=\"1104\" y=\"-141.8\" font-family=\"Times,serif\" font-size=\"14.00\">samples = 3028</text>\n",
       "<text text-anchor=\"middle\" x=\"1104\" y=\"-126.8\" font-family=\"Times,serif\" font-size=\"14.00\">value = [991, 1933, 10, 0, 94]</text>\n",
       "<text text-anchor=\"middle\" x=\"1104\" y=\"-111.8\" font-family=\"Times,serif\" font-size=\"14.00\">class = slower</text>\n",
       "</g>\n",
       "<!-- 8&#45;&gt;12 -->\n",
       "<g id=\"edge12\" class=\"edge\">\n",
       "<title>8&#45;&gt;12</title>\n",
       "<path fill=\"none\" stroke=\"black\" d=\"M919.19,-222.91C946.18,-211.75 975.49,-199.63 1002.66,-188.4\"/>\n",
       "<polygon fill=\"black\" stroke=\"black\" points=\"1004.26,-191.52 1012.17,-184.47 1001.59,-185.05 1004.26,-191.52\"/>\n",
       "</g>\n",
       "<!-- 10 -->\n",
       "<g id=\"node11\" class=\"node\">\n",
       "<title>10</title>\n",
       "<polygon fill=\"none\" stroke=\"black\" points=\"814,-68 652,-68 652,0 814,0 814,-68\"/>\n",
       "<text text-anchor=\"middle\" x=\"733\" y=\"-52.8\" font-family=\"Times,serif\" font-size=\"14.00\">entropy = 0.726</text>\n",
       "<text text-anchor=\"middle\" x=\"733\" y=\"-37.8\" font-family=\"Times,serif\" font-size=\"14.00\">samples = 566</text>\n",
       "<text text-anchor=\"middle\" x=\"733\" y=\"-22.8\" font-family=\"Times,serif\" font-size=\"14.00\">value = [11, 81, 474, 0, 0]</text>\n",
       "<text text-anchor=\"middle\" x=\"733\" y=\"-7.8\" font-family=\"Times,serif\" font-size=\"14.00\">class = easy&#45;turn&#45;right</text>\n",
       "</g>\n",
       "<!-- 9&#45;&gt;10 -->\n",
       "<g id=\"edge10\" class=\"edge\">\n",
       "<title>9&#45;&gt;10</title>\n",
       "<path fill=\"none\" stroke=\"black\" d=\"M788.23,-103.73C781.05,-94.79 773.44,-85.32 766.24,-76.36\"/>\n",
       "<polygon fill=\"black\" stroke=\"black\" points=\"768.75,-73.9 759.76,-68.3 763.3,-78.29 768.75,-73.9\"/>\n",
       "</g>\n",
       "<!-- 11 -->\n",
       "<g id=\"node12\" class=\"node\">\n",
       "<title>11</title>\n",
       "<polygon fill=\"none\" stroke=\"black\" points=\"1001.5,-68 832.5,-68 832.5,0 1001.5,0 1001.5,-68\"/>\n",
       "<text text-anchor=\"middle\" x=\"917\" y=\"-52.8\" font-family=\"Times,serif\" font-size=\"14.00\">entropy = 1.483</text>\n",
       "<text text-anchor=\"middle\" x=\"917\" y=\"-37.8\" font-family=\"Times,serif\" font-size=\"14.00\">samples = 431</text>\n",
       "<text text-anchor=\"middle\" x=\"917\" y=\"-22.8\" font-family=\"Times,serif\" font-size=\"14.00\">value = [74, 197, 160, 0, 0]</text>\n",
       "<text text-anchor=\"middle\" x=\"917\" y=\"-7.8\" font-family=\"Times,serif\" font-size=\"14.00\">class = slower</text>\n",
       "</g>\n",
       "<!-- 9&#45;&gt;11 -->\n",
       "<g id=\"edge11\" class=\"edge\">\n",
       "<title>9&#45;&gt;11</title>\n",
       "<path fill=\"none\" stroke=\"black\" d=\"M856.75,-103.73C864.66,-94.7 873.06,-85.12 880.98,-76.08\"/>\n",
       "<polygon fill=\"black\" stroke=\"black\" points=\"883.85,-78.13 887.81,-68.3 878.58,-73.51 883.85,-78.13\"/>\n",
       "</g>\n",
       "<!-- 13 -->\n",
       "<g id=\"node14\" class=\"node\">\n",
       "<title>13</title>\n",
       "<polygon fill=\"none\" stroke=\"black\" points=\"1188.5,-68 1019.5,-68 1019.5,0 1188.5,0 1188.5,-68\"/>\n",
       "<text text-anchor=\"middle\" x=\"1104\" y=\"-52.8\" font-family=\"Times,serif\" font-size=\"14.00\">entropy = 1.005</text>\n",
       "<text text-anchor=\"middle\" x=\"1104\" y=\"-37.8\" font-family=\"Times,serif\" font-size=\"14.00\">samples = 1111</text>\n",
       "<text text-anchor=\"middle\" x=\"1104\" y=\"-22.8\" font-family=\"Times,serif\" font-size=\"14.00\">value = [820, 250, 6, 0, 35]</text>\n",
       "<text text-anchor=\"middle\" x=\"1104\" y=\"-7.8\" font-family=\"Times,serif\" font-size=\"14.00\">class = faster</text>\n",
       "</g>\n",
       "<!-- 12&#45;&gt;13 -->\n",
       "<g id=\"edge13\" class=\"edge\">\n",
       "<title>12&#45;&gt;13</title>\n",
       "<path fill=\"none\" stroke=\"black\" d=\"M1104,-103.73C1104,-95.52 1104,-86.86 1104,-78.56\"/>\n",
       "<polygon fill=\"black\" stroke=\"black\" points=\"1107.5,-78.3 1104,-68.3 1100.5,-78.3 1107.5,-78.3\"/>\n",
       "</g>\n",
       "<!-- 14 -->\n",
       "<g id=\"node15\" class=\"node\">\n",
       "<title>14</title>\n",
       "<polygon fill=\"none\" stroke=\"black\" points=\"1383,-68 1207,-68 1207,0 1383,0 1383,-68\"/>\n",
       "<text text-anchor=\"middle\" x=\"1295\" y=\"-52.8\" font-family=\"Times,serif\" font-size=\"14.00\">entropy = 0.649</text>\n",
       "<text text-anchor=\"middle\" x=\"1295\" y=\"-37.8\" font-family=\"Times,serif\" font-size=\"14.00\">samples = 1917</text>\n",
       "<text text-anchor=\"middle\" x=\"1295\" y=\"-22.8\" font-family=\"Times,serif\" font-size=\"14.00\">value = [171, 1683, 4, 0, 59]</text>\n",
       "<text text-anchor=\"middle\" x=\"1295\" y=\"-7.8\" font-family=\"Times,serif\" font-size=\"14.00\">class = slower</text>\n",
       "</g>\n",
       "<!-- 12&#45;&gt;14 -->\n",
       "<g id=\"edge14\" class=\"edge\">\n",
       "<title>12&#45;&gt;14</title>\n",
       "<path fill=\"none\" stroke=\"black\" d=\"M1174.85,-103.88C1192.39,-93.83 1211.12,-83.09 1228.44,-73.16\"/>\n",
       "<polygon fill=\"black\" stroke=\"black\" points=\"1230.43,-76.05 1237.36,-68.04 1226.95,-69.98 1230.43,-76.05\"/>\n",
       "</g>\n",
       "</g>\n",
       "</svg>\n"
      ],
      "text/plain": [
       "<graphviz.files.Source at 0x7f8be6f3a3d0>"
      ]
     },
     "execution_count": 81,
     "metadata": {},
     "output_type": "execute_result"
    }
   ],
   "source": [
    "dot_data = tree.export_graphviz(classifier, \n",
    "                  feature_names=X.columns,  \n",
    "                  class_names=class_names, \n",
    "                           )\n",
    "graph = graphviz.Source(dot_data)\n",
    "graph"
   ]
  },
  {
   "cell_type": "code",
   "execution_count": 82,
   "metadata": {},
   "outputs": [],
   "source": [
    "from joblib import dump, load"
   ]
  },
  {
   "cell_type": "code",
   "execution_count": 84,
   "metadata": {},
   "outputs": [
    {
     "data": {
      "text/plain": [
       "['truck_round.joblib']"
      ]
     },
     "execution_count": 84,
     "metadata": {},
     "output_type": "execute_result"
    }
   ],
   "source": [
    "dump(classifier, 'truck_round.joblib')"
   ]
  },
  {
   "cell_type": "code",
   "execution_count": 85,
   "metadata": {},
   "outputs": [],
   "source": [
    "clf = load('truck_round.joblib')"
   ]
  },
  {
   "cell_type": "code",
   "execution_count": 86,
   "metadata": {},
   "outputs": [
    {
     "data": {
      "text/plain": [
       "DecisionTreeClassifier(class_weight=None, criterion='entropy', max_depth=3,\n",
       "                       max_features=None, max_leaf_nodes=None,\n",
       "                       min_impurity_decrease=0.0, min_impurity_split=None,\n",
       "                       min_samples_leaf=1, min_samples_split=2,\n",
       "                       min_weight_fraction_leaf=0.0, presort=False,\n",
       "                       random_state=42, splitter='best')"
      ]
     },
     "execution_count": 86,
     "metadata": {},
     "output_type": "execute_result"
    }
   ],
   "source": [
    "clf"
   ]
  },
  {
   "cell_type": "code",
   "execution_count": null,
   "metadata": {},
   "outputs": [],
   "source": []
  }
 ],
 "metadata": {
  "kernelspec": {
   "display_name": "Python 3",
   "language": "python",
   "name": "python3"
  },
  "language_info": {
   "codemirror_mode": {
    "name": "ipython",
    "version": 3
   },
   "file_extension": ".py",
   "mimetype": "text/x-python",
   "name": "python",
   "nbconvert_exporter": "python",
   "pygments_lexer": "ipython3",
   "version": "3.7.4"
  }
 },
 "nbformat": 4,
 "nbformat_minor": 2
}
