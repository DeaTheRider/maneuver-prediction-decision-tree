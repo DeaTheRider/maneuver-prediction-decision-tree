{
 "cells": [
  {
   "cell_type": "code",
   "execution_count": 3,
   "metadata": {},
   "outputs": [],
   "source": [
    "import pandas as pd"
   ]
  },
  {
   "cell_type": "code",
   "execution_count": null,
   "metadata": {},
   "outputs": [],
   "source": []
  },
  {
   "cell_type": "code",
   "execution_count": null,
   "metadata": {},
   "outputs": [],
   "source": []
  },
  {
   "cell_type": "code",
   "execution_count": 4,
   "metadata": {},
   "outputs": [],
   "source": [
    "df = pd.DataFrame()"
   ]
  },
  {
   "cell_type": "code",
   "execution_count": 5,
   "metadata": {},
   "outputs": [],
   "source": [
    "name_dataset = \"rounD-dataset-v1.0\"\n",
    "for i in range(24):\n",
    "    num_csv = f\"0{i}\" if len(str(i)) != 2 else str(i)\n",
    "    path = f\"output3/{name_dataset}_2\" + num_csv + \"concat_dataset.csv\"\n",
    "\n",
    "    df2 = pd.read_csv(path)\n",
    "    df = pd.concat([df, df2], ignore_index=True)"
   ]
  },
  {
   "cell_type": "code",
   "execution_count": 6,
   "metadata": {},
   "outputs": [],
   "source": [
    "    if name_dataset == \"inD-dataset-v1.0\":\n",
    "        count_csv = 33\n",
    "    else:\n",
    "        count_csv = 24"
   ]
  },
  {
   "cell_type": "code",
   "execution_count": 7,
   "metadata": {},
   "outputs": [],
   "source": [
    "class_ = tuple(set(df['class'].to_list()))"
   ]
  },
  {
   "cell_type": "code",
   "execution_count": 8,
   "metadata": {},
   "outputs": [
    {
     "name": "stderr",
     "output_type": "stream",
     "text": [
      "/Users/nikolaj/opt/anaconda3/lib/python3.7/site-packages/pandas/util/_decorators.py:311: SettingWithCopyWarning: \n",
      "A value is trying to be set on a copy of a slice from a DataFrame\n",
      "\n",
      "See the caveats in the documentation: https://pandas.pydata.org/pandas-docs/stable/user_guide/indexing.html#returning-a-view-versus-a-copy\n",
      "  return func(*args, **kwargs)\n"
     ]
    }
   ],
   "source": [
    "for i in class_:\n",
    "    if i == 'pedestrian':\n",
    "        continue\n",
    "    df2 = df[df['class'] == i]\n",
    "    df2.dropna(axis=0, inplace=True)\n",
    "    break"
   ]
  },
  {
   "cell_type": "code",
   "execution_count": 9,
   "metadata": {},
   "outputs": [
    {
     "data": {
      "text/plain": [
       "slower             278\n",
       "faster             128\n",
       "easy-turn-right     86\n",
       "easy-turn-left       1\n",
       "Name: label, dtype: int64"
      ]
     },
     "execution_count": 9,
     "metadata": {},
     "output_type": "execute_result"
    }
   ],
   "source": [
    "df2['label'].value_counts()"
   ]
  },
  {
   "cell_type": "code",
   "execution_count": 10,
   "metadata": {},
   "outputs": [],
   "source": [
    "column = ['trackLifetime', 'xCenter', 'yCenter', 'heading', 'width', 'length', 'xVelocity', 'yVelocity', \n",
    "         'xAcceleration', 'yAcceleration', 'lonVelocity','latVelocity', 'lonAcceleration', 'latAcceleration', \n",
    "          'label']\n",
    "column2 = ['1_yVelocity', '1_xVelocity', '1_yAcceleration', '1_xAcceleration', '1_xCenter', '1_yCenter',\n",
    "           '2_yVelocity', '2_xVelocity', '2_yAcceleration', '2_xAcceleration', '2_xCenter', '2_yCenter',\n",
    "           '3_yVelocity', '3_xVelocity', '3_yAcceleration', '3_xAcceleration', '3_xCenter', '3_yCenter',\n",
    "          '3_distance', '2_distance', '1_distance']\n"
   ]
  },
  {
   "cell_type": "code",
   "execution_count": 11,
   "metadata": {},
   "outputs": [],
   "source": [
    "column.extend(column2)"
   ]
  },
  {
   "cell_type": "code",
   "execution_count": 12,
   "metadata": {},
   "outputs": [
    {
     "data": {
      "text/plain": [
       "slower             278\n",
       "faster             128\n",
       "easy-turn-right     86\n",
       "easy-turn-left       1\n",
       "Name: label, dtype: int64"
      ]
     },
     "execution_count": 12,
     "metadata": {},
     "output_type": "execute_result"
    }
   ],
   "source": [
    "df2['label'].value_counts()"
   ]
  },
  {
   "cell_type": "code",
   "execution_count": 13,
   "metadata": {},
   "outputs": [
    {
     "name": "stdout",
     "output_type": "stream",
     "text": [
      "motorcycle\n"
     ]
    }
   ],
   "source": [
    "print(i)"
   ]
  },
  {
   "cell_type": "code",
   "execution_count": 14,
   "metadata": {},
   "outputs": [],
   "source": [
    "df2 = df2[column]"
   ]
  },
  {
   "cell_type": "code",
   "execution_count": 15,
   "metadata": {},
   "outputs": [],
   "source": [
    "df2.at[df2['label']=='turn-right', 'label'] = 'easy-turn-right'"
   ]
  },
  {
   "cell_type": "code",
   "execution_count": 16,
   "metadata": {},
   "outputs": [],
   "source": [
    "df2.at[df2['label']=='turn-left', 'label'] = 'easy-turn-left'"
   ]
  },
  {
   "cell_type": "code",
   "execution_count": 17,
   "metadata": {},
   "outputs": [],
   "source": [
    "df2 = df2.drop(df2[df2['label'] == 'easy-turn-left'].index)"
   ]
  },
  {
   "cell_type": "code",
   "execution_count": 18,
   "metadata": {},
   "outputs": [
    {
     "data": {
      "text/plain": [
       "slower             278\n",
       "faster             128\n",
       "easy-turn-right     86\n",
       "Name: label, dtype: int64"
      ]
     },
     "execution_count": 18,
     "metadata": {},
     "output_type": "execute_result"
    }
   ],
   "source": [
    "df2['label'].value_counts()"
   ]
  },
  {
   "cell_type": "code",
   "execution_count": 19,
   "metadata": {},
   "outputs": [
    {
     "data": {
      "text/plain": [
       "slower             278\n",
       "faster             128\n",
       "easy-turn-right     86\n",
       "Name: label, dtype: int64"
      ]
     },
     "execution_count": 19,
     "metadata": {},
     "output_type": "execute_result"
    }
   ],
   "source": [
    "df2['label'].value_counts()"
   ]
  },
  {
   "cell_type": "code",
   "execution_count": 20,
   "metadata": {},
   "outputs": [],
   "source": [
    "X = df2.drop('label', axis=1)"
   ]
  },
  {
   "cell_type": "code",
   "execution_count": 21,
   "metadata": {},
   "outputs": [],
   "source": [
    "y = df2['label']"
   ]
  },
  {
   "cell_type": "code",
   "execution_count": 22,
   "metadata": {},
   "outputs": [],
   "source": [
    "y,class_names = pd.factorize(y)"
   ]
  },
  {
   "cell_type": "code",
   "execution_count": 23,
   "metadata": {},
   "outputs": [
    {
     "data": {
      "text/plain": [
       "Index(['faster', 'slower', 'easy-turn-right'], dtype='object')"
      ]
     },
     "execution_count": 23,
     "metadata": {},
     "output_type": "execute_result"
    }
   ],
   "source": [
    "class_names"
   ]
  },
  {
   "cell_type": "code",
   "execution_count": 24,
   "metadata": {},
   "outputs": [
    {
     "data": {
      "text/plain": [
       "(492, 492)"
      ]
     },
     "execution_count": 24,
     "metadata": {},
     "output_type": "execute_result"
    }
   ],
   "source": [
    "len(y), len(X)"
   ]
  },
  {
   "cell_type": "code",
   "execution_count": 25,
   "metadata": {},
   "outputs": [],
   "source": [
    "from sklearn.model_selection import train_test_split\n",
    "X_train, X_test, y_train, y_test = train_test_split(X, y, test_size = 0.25, stratify=y, random_state = 42)"
   ]
  },
  {
   "cell_type": "code",
   "execution_count": 26,
   "metadata": {},
   "outputs": [
    {
     "data": {
      "text/plain": [
       "DecisionTreeClassifier(criterion='entropy', max_depth=3, random_state=42)"
      ]
     },
     "execution_count": 26,
     "metadata": {},
     "output_type": "execute_result"
    }
   ],
   "source": [
    "from sklearn.tree import DecisionTreeClassifier\n",
    "classifier = DecisionTreeClassifier(criterion='entropy',max_depth=3, random_state=42)\n",
    "classifier.fit(X_train, y_train)"
   ]
  },
  {
   "cell_type": "code",
   "execution_count": 27,
   "metadata": {},
   "outputs": [
    {
     "name": "stdout",
     "output_type": "stream",
     "text": [
      "Accuracy: 0.86\n",
      "Confusion Matrix: \n",
      " [[ 85  10   1]\n",
      " [ 17 169  22]\n",
      " [  2   0  63]]\n",
      "                 precision    recall  f1-score   support\n",
      "\n",
      "         faster       0.82      0.89      0.85        96\n",
      "         slower       0.94      0.81      0.87       208\n",
      "easy-turn-right       0.73      0.97      0.83        65\n",
      "\n",
      "       accuracy                           0.86       369\n",
      "      macro avg       0.83      0.89      0.85       369\n",
      "   weighted avg       0.87      0.86      0.86       369\n",
      "\n"
     ]
    }
   ],
   "source": [
    "y_pred_train =classifier.predict(X_train)\n",
    "\n",
    "from sklearn import metrics\n",
    "from sklearn.metrics import confusion_matrix, classification_report\n",
    "\n",
    "accuracy = metrics.accuracy_score(y_train, y_pred_train)\n",
    "print(\"Accuracy: {:.2f}\".format(accuracy))\n",
    "cm=confusion_matrix(y_train,y_pred_train)\n",
    "print('Confusion Matrix: \\n', cm)\n",
    "print(classification_report(y_train, y_pred_train, target_names=class_names))"
   ]
  },
  {
   "cell_type": "code",
   "execution_count": 28,
   "metadata": {},
   "outputs": [
    {
     "name": "stdout",
     "output_type": "stream",
     "text": [
      "Accuracy: 0.83\n",
      "Confusion Matrix: \n",
      " [[27  3  2]\n",
      " [ 1 57 12]\n",
      " [ 1  2 18]]\n",
      "                 precision    recall  f1-score   support\n",
      "\n",
      "         faster       0.93      0.84      0.89        32\n",
      "         slower       0.92      0.81      0.86        70\n",
      "easy-turn-right       0.56      0.86      0.68        21\n",
      "\n",
      "       accuracy                           0.83       123\n",
      "      macro avg       0.80      0.84      0.81       123\n",
      "   weighted avg       0.86      0.83      0.84       123\n",
      "\n"
     ]
    }
   ],
   "source": [
    "# Predicting the test results\n",
    "y_pred=classifier.predict(X_test)\n",
    "\n",
    "from sklearn import metrics\n",
    "accuracy = metrics.accuracy_score(y_test, y_pred)\n",
    "print(\"Accuracy: {:.2f}\".format(accuracy))\n",
    "\n",
    "from sklearn.metrics import confusion_matrix, classification_report\n",
    "cm=confusion_matrix(y_test,y_pred)\n",
    "print('Confusion Matrix: \\n', cm)\n",
    "print(classification_report(y_test, y_pred, target_names=class_names))"
   ]
  },
  {
   "cell_type": "code",
   "execution_count": 29,
   "metadata": {},
   "outputs": [],
   "source": [
    "column3 = ['trackLifetime', 'xCenter', 'yCenter', 'heading', 'width', 'length', 'xVelocity', 'yVelocity', \n",
    "         'xAcceleration', 'yAcceleration', 'lonVelocity','latVelocity', 'lonAcceleration', 'latAcceleration', \n",
    "          '1_yVelocity', '1_xVelocity', '1_yAcceleration', '1_xAcceleration', '1_xCenter', '1_yCenter',\n",
    "           '2_yVelocity', '2_xVelocity', '2_yAcceleration', '2_xAcceleration', '2_xCenter', '2_yCenter',\n",
    "           '3_yVelocity', '3_xVelocity', '3_yAcceleration', '3_xAcceleration', '3_xCenter', '3_yCenter',\n",
    "          '3_distance', '2_distance', '1_distance']"
   ]
  },
  {
   "cell_type": "code",
   "execution_count": 46,
   "metadata": {},
   "outputs": [],
   "source": [
    "import graphviz\n",
    "from sklearn import tree\n",
    "feature_names = column3\n",
    "dot_data = tree.export_graphviz(classifier, out_file='tree.dot', filled=True, rounded = True, feature_names=feature_names, class_names=class_names)\n"
   ]
  },
  {
   "cell_type": "code",
   "execution_count": 47,
   "metadata": {},
   "outputs": [],
   "source": [
    "g = graphviz.Source(dot_data)"
   ]
  },
  {
   "cell_type": "code",
   "execution_count": 48,
   "metadata": {},
   "outputs": [
    {
     "data": {
      "image/svg+xml": [
       "<?xml version=\"1.0\" encoding=\"UTF-8\" standalone=\"no\"?>\n",
       "<!DOCTYPE svg PUBLIC \"-//W3C//DTD SVG 1.1//EN\"\n",
       " \"http://www.w3.org/Graphics/SVG/1.1/DTD/svg11.dtd\">\n",
       "<!-- Generated by graphviz version 2.48.0 (20210717.1556)\n",
       " -->\n",
       "<!-- Title: Tree Pages: 1 -->\n",
       "<svg width=\"1098pt\" height=\"433pt\"\n",
       " viewBox=\"0.00 0.00 1098.00 433.00\" xmlns=\"http://www.w3.org/2000/svg\" xmlns:xlink=\"http://www.w3.org/1999/xlink\">\n",
       "<g id=\"graph0\" class=\"graph\" transform=\"scale(1 1) rotate(0) translate(4 429)\">\n",
       "<title>Tree</title>\n",
       "<polygon fill=\"white\" stroke=\"transparent\" points=\"-4,4 -4,-429 1094,-429 1094,4 -4,4\"/>\n",
       "<!-- 0 -->\n",
       "<g id=\"node1\" class=\"node\">\n",
       "<title>0</title>\n",
       "<polygon fill=\"none\" stroke=\"black\" points=\"625.5,-425 464.5,-425 464.5,-342 625.5,-342 625.5,-425\"/>\n",
       "<text text-anchor=\"middle\" x=\"545\" y=\"-409.8\" font-family=\"Times,serif\" font-size=\"14.00\">latAcceleration &lt;= &#45;1.515</text>\n",
       "<text text-anchor=\"middle\" x=\"545\" y=\"-394.8\" font-family=\"Times,serif\" font-size=\"14.00\">entropy = 1.413</text>\n",
       "<text text-anchor=\"middle\" x=\"545\" y=\"-379.8\" font-family=\"Times,serif\" font-size=\"14.00\">samples = 369</text>\n",
       "<text text-anchor=\"middle\" x=\"545\" y=\"-364.8\" font-family=\"Times,serif\" font-size=\"14.00\">value = [96, 208, 65]</text>\n",
       "<text text-anchor=\"middle\" x=\"545\" y=\"-349.8\" font-family=\"Times,serif\" font-size=\"14.00\">class = slower</text>\n",
       "</g>\n",
       "<!-- 1 -->\n",
       "<g id=\"node2\" class=\"node\">\n",
       "<title>1</title>\n",
       "<polygon fill=\"none\" stroke=\"black\" points=\"535,-306 375,-306 375,-223 535,-223 535,-306\"/>\n",
       "<text text-anchor=\"middle\" x=\"455\" y=\"-290.8\" font-family=\"Times,serif\" font-size=\"14.00\">lonAcceleration &lt;= 0.196</text>\n",
       "<text text-anchor=\"middle\" x=\"455\" y=\"-275.8\" font-family=\"Times,serif\" font-size=\"14.00\">entropy = 1.147</text>\n",
       "<text text-anchor=\"middle\" x=\"455\" y=\"-260.8\" font-family=\"Times,serif\" font-size=\"14.00\">samples = 101</text>\n",
       "<text text-anchor=\"middle\" x=\"455\" y=\"-245.8\" font-family=\"Times,serif\" font-size=\"14.00\">value = [5, 31, 65]</text>\n",
       "<text text-anchor=\"middle\" x=\"455\" y=\"-230.8\" font-family=\"Times,serif\" font-size=\"14.00\">class = easy&#45;turn&#45;right</text>\n",
       "</g>\n",
       "<!-- 0&#45;&gt;1 -->\n",
       "<g id=\"edge1\" class=\"edge\">\n",
       "<title>0&#45;&gt;1</title>\n",
       "<path fill=\"none\" stroke=\"black\" d=\"M513.77,-341.91C506.86,-332.92 499.47,-323.32 492.35,-314.05\"/>\n",
       "<polygon fill=\"black\" stroke=\"black\" points=\"495.04,-311.81 486.17,-306.02 489.49,-316.08 495.04,-311.81\"/>\n",
       "<text text-anchor=\"middle\" x=\"482.94\" y=\"-327.11\" font-family=\"Times,serif\" font-size=\"14.00\">True</text>\n",
       "</g>\n",
       "<!-- 8 -->\n",
       "<g id=\"node9\" class=\"node\">\n",
       "<title>8</title>\n",
       "<polygon fill=\"none\" stroke=\"black\" points=\"746,-306 586,-306 586,-223 746,-223 746,-306\"/>\n",
       "<text text-anchor=\"middle\" x=\"666\" y=\"-290.8\" font-family=\"Times,serif\" font-size=\"14.00\">lonAcceleration &lt;= 0.018</text>\n",
       "<text text-anchor=\"middle\" x=\"666\" y=\"-275.8\" font-family=\"Times,serif\" font-size=\"14.00\">entropy = 0.924</text>\n",
       "<text text-anchor=\"middle\" x=\"666\" y=\"-260.8\" font-family=\"Times,serif\" font-size=\"14.00\">samples = 268</text>\n",
       "<text text-anchor=\"middle\" x=\"666\" y=\"-245.8\" font-family=\"Times,serif\" font-size=\"14.00\">value = [91, 177, 0]</text>\n",
       "<text text-anchor=\"middle\" x=\"666\" y=\"-230.8\" font-family=\"Times,serif\" font-size=\"14.00\">class = slower</text>\n",
       "</g>\n",
       "<!-- 0&#45;&gt;8 -->\n",
       "<g id=\"edge8\" class=\"edge\">\n",
       "<title>0&#45;&gt;8</title>\n",
       "<path fill=\"none\" stroke=\"black\" d=\"M586.98,-341.91C596.55,-332.65 606.81,-322.73 616.66,-313.21\"/>\n",
       "<polygon fill=\"black\" stroke=\"black\" points=\"619.34,-315.49 624.09,-306.02 614.47,-310.46 619.34,-315.49\"/>\n",
       "<text text-anchor=\"middle\" x=\"623.67\" y=\"-327.32\" font-family=\"Times,serif\" font-size=\"14.00\">False</text>\n",
       "</g>\n",
       "<!-- 2 -->\n",
       "<g id=\"node3\" class=\"node\">\n",
       "<title>2</title>\n",
       "<polygon fill=\"none\" stroke=\"black\" points=\"284,-187 142,-187 142,-104 284,-104 284,-187\"/>\n",
       "<text text-anchor=\"middle\" x=\"213\" y=\"-171.8\" font-family=\"Times,serif\" font-size=\"14.00\">latVelocity &lt;= 0.229</text>\n",
       "<text text-anchor=\"middle\" x=\"213\" y=\"-156.8\" font-family=\"Times,serif\" font-size=\"14.00\">entropy = 0.776</text>\n",
       "<text text-anchor=\"middle\" x=\"213\" y=\"-141.8\" font-family=\"Times,serif\" font-size=\"14.00\">samples = 51</text>\n",
       "<text text-anchor=\"middle\" x=\"213\" y=\"-126.8\" font-family=\"Times,serif\" font-size=\"14.00\">value = [5, 3, 43]</text>\n",
       "<text text-anchor=\"middle\" x=\"213\" y=\"-111.8\" font-family=\"Times,serif\" font-size=\"14.00\">class = easy&#45;turn&#45;right</text>\n",
       "</g>\n",
       "<!-- 1&#45;&gt;2 -->\n",
       "<g id=\"edge2\" class=\"edge\">\n",
       "<title>1&#45;&gt;2</title>\n",
       "<path fill=\"none\" stroke=\"black\" d=\"M374.75,-224.7C348.54,-212.03 319.43,-197.96 293.22,-185.28\"/>\n",
       "<polygon fill=\"black\" stroke=\"black\" points=\"294.61,-182.07 284.08,-180.86 291.56,-188.37 294.61,-182.07\"/>\n",
       "</g>\n",
       "<!-- 5 -->\n",
       "<g id=\"node6\" class=\"node\">\n",
       "<title>5</title>\n",
       "<polygon fill=\"none\" stroke=\"black\" points=\"535.5,-187 374.5,-187 374.5,-104 535.5,-104 535.5,-187\"/>\n",
       "<text text-anchor=\"middle\" x=\"455\" y=\"-171.8\" font-family=\"Times,serif\" font-size=\"14.00\">latAcceleration &lt;= &#45;1.791</text>\n",
       "<text text-anchor=\"middle\" x=\"455\" y=\"-156.8\" font-family=\"Times,serif\" font-size=\"14.00\">entropy = 0.99</text>\n",
       "<text text-anchor=\"middle\" x=\"455\" y=\"-141.8\" font-family=\"Times,serif\" font-size=\"14.00\">samples = 50</text>\n",
       "<text text-anchor=\"middle\" x=\"455\" y=\"-126.8\" font-family=\"Times,serif\" font-size=\"14.00\">value = [0, 28, 22]</text>\n",
       "<text text-anchor=\"middle\" x=\"455\" y=\"-111.8\" font-family=\"Times,serif\" font-size=\"14.00\">class = slower</text>\n",
       "</g>\n",
       "<!-- 1&#45;&gt;5 -->\n",
       "<g id=\"edge5\" class=\"edge\">\n",
       "<title>1&#45;&gt;5</title>\n",
       "<path fill=\"none\" stroke=\"black\" d=\"M455,-222.91C455,-214.65 455,-205.86 455,-197.3\"/>\n",
       "<polygon fill=\"black\" stroke=\"black\" points=\"458.5,-197.02 455,-187.02 451.5,-197.02 458.5,-197.02\"/>\n",
       "</g>\n",
       "<!-- 3 -->\n",
       "<g id=\"node4\" class=\"node\">\n",
       "<title>3</title>\n",
       "<polygon fill=\"none\" stroke=\"black\" points=\"142,-68 0,-68 0,0 142,0 142,-68\"/>\n",
       "<text text-anchor=\"middle\" x=\"71\" y=\"-52.8\" font-family=\"Times,serif\" font-size=\"14.00\">entropy = 0.505</text>\n",
       "<text text-anchor=\"middle\" x=\"71\" y=\"-37.8\" font-family=\"Times,serif\" font-size=\"14.00\">samples = 45</text>\n",
       "<text text-anchor=\"middle\" x=\"71\" y=\"-22.8\" font-family=\"Times,serif\" font-size=\"14.00\">value = [1, 3, 41]</text>\n",
       "<text text-anchor=\"middle\" x=\"71\" y=\"-7.8\" font-family=\"Times,serif\" font-size=\"14.00\">class = easy&#45;turn&#45;right</text>\n",
       "</g>\n",
       "<!-- 2&#45;&gt;3 -->\n",
       "<g id=\"edge3\" class=\"edge\">\n",
       "<title>2&#45;&gt;3</title>\n",
       "<path fill=\"none\" stroke=\"black\" d=\"M160.12,-103.73C147.71,-94.15 134.49,-83.96 122.15,-74.44\"/>\n",
       "<polygon fill=\"black\" stroke=\"black\" points=\"124.24,-71.63 114.18,-68.3 119.96,-77.18 124.24,-71.63\"/>\n",
       "</g>\n",
       "<!-- 4 -->\n",
       "<g id=\"node5\" class=\"node\">\n",
       "<title>4</title>\n",
       "<polygon fill=\"none\" stroke=\"black\" points=\"266,-68 160,-68 160,0 266,0 266,-68\"/>\n",
       "<text text-anchor=\"middle\" x=\"213\" y=\"-52.8\" font-family=\"Times,serif\" font-size=\"14.00\">entropy = 0.918</text>\n",
       "<text text-anchor=\"middle\" x=\"213\" y=\"-37.8\" font-family=\"Times,serif\" font-size=\"14.00\">samples = 6</text>\n",
       "<text text-anchor=\"middle\" x=\"213\" y=\"-22.8\" font-family=\"Times,serif\" font-size=\"14.00\">value = [4, 0, 2]</text>\n",
       "<text text-anchor=\"middle\" x=\"213\" y=\"-7.8\" font-family=\"Times,serif\" font-size=\"14.00\">class = faster</text>\n",
       "</g>\n",
       "<!-- 2&#45;&gt;4 -->\n",
       "<g id=\"edge4\" class=\"edge\">\n",
       "<title>2&#45;&gt;4</title>\n",
       "<path fill=\"none\" stroke=\"black\" d=\"M213,-103.73C213,-95.52 213,-86.86 213,-78.56\"/>\n",
       "<polygon fill=\"black\" stroke=\"black\" points=\"216.5,-78.3 213,-68.3 209.5,-78.3 216.5,-78.3\"/>\n",
       "</g>\n",
       "<!-- 6 -->\n",
       "<g id=\"node7\" class=\"node\">\n",
       "<title>6</title>\n",
       "<polygon fill=\"none\" stroke=\"black\" points=\"426,-68 284,-68 284,0 426,0 426,-68\"/>\n",
       "<text text-anchor=\"middle\" x=\"355\" y=\"-52.8\" font-family=\"Times,serif\" font-size=\"14.00\">entropy = 0.996</text>\n",
       "<text text-anchor=\"middle\" x=\"355\" y=\"-37.8\" font-family=\"Times,serif\" font-size=\"14.00\">samples = 41</text>\n",
       "<text text-anchor=\"middle\" x=\"355\" y=\"-22.8\" font-family=\"Times,serif\" font-size=\"14.00\">value = [0, 19, 22]</text>\n",
       "<text text-anchor=\"middle\" x=\"355\" y=\"-7.8\" font-family=\"Times,serif\" font-size=\"14.00\">class = easy&#45;turn&#45;right</text>\n",
       "</g>\n",
       "<!-- 5&#45;&gt;6 -->\n",
       "<g id=\"edge6\" class=\"edge\">\n",
       "<title>5&#45;&gt;6</title>\n",
       "<path fill=\"none\" stroke=\"black\" d=\"M417.76,-103.73C409.43,-94.61 400.6,-84.93 392.27,-75.81\"/>\n",
       "<polygon fill=\"black\" stroke=\"black\" points=\"394.74,-73.32 385.41,-68.3 389.57,-78.04 394.74,-73.32\"/>\n",
       "</g>\n",
       "<!-- 7 -->\n",
       "<g id=\"node8\" class=\"node\">\n",
       "<title>7</title>\n",
       "<polygon fill=\"none\" stroke=\"black\" points=\"550,-68 444,-68 444,0 550,0 550,-68\"/>\n",
       "<text text-anchor=\"middle\" x=\"497\" y=\"-52.8\" font-family=\"Times,serif\" font-size=\"14.00\">entropy = 0.0</text>\n",
       "<text text-anchor=\"middle\" x=\"497\" y=\"-37.8\" font-family=\"Times,serif\" font-size=\"14.00\">samples = 9</text>\n",
       "<text text-anchor=\"middle\" x=\"497\" y=\"-22.8\" font-family=\"Times,serif\" font-size=\"14.00\">value = [0, 9, 0]</text>\n",
       "<text text-anchor=\"middle\" x=\"497\" y=\"-7.8\" font-family=\"Times,serif\" font-size=\"14.00\">class = slower</text>\n",
       "</g>\n",
       "<!-- 5&#45;&gt;7 -->\n",
       "<g id=\"edge7\" class=\"edge\">\n",
       "<title>5&#45;&gt;7</title>\n",
       "<path fill=\"none\" stroke=\"black\" d=\"M470.64,-103.73C473.89,-95.24 477.33,-86.28 480.61,-77.73\"/>\n",
       "<polygon fill=\"black\" stroke=\"black\" points=\"483.91,-78.89 484.23,-68.3 477.38,-76.38 483.91,-78.89\"/>\n",
       "</g>\n",
       "<!-- 9 -->\n",
       "<g id=\"node10\" class=\"node\">\n",
       "<title>9</title>\n",
       "<polygon fill=\"none\" stroke=\"black\" points=\"748.5,-187 583.5,-187 583.5,-104 748.5,-104 748.5,-187\"/>\n",
       "<text text-anchor=\"middle\" x=\"666\" y=\"-171.8\" font-family=\"Times,serif\" font-size=\"14.00\">lonAcceleration &lt;= &#45;0.426</text>\n",
       "<text text-anchor=\"middle\" x=\"666\" y=\"-156.8\" font-family=\"Times,serif\" font-size=\"14.00\">entropy = 0.666</text>\n",
       "<text text-anchor=\"middle\" x=\"666\" y=\"-141.8\" font-family=\"Times,serif\" font-size=\"14.00\">samples = 98</text>\n",
       "<text text-anchor=\"middle\" x=\"666\" y=\"-126.8\" font-family=\"Times,serif\" font-size=\"14.00\">value = [81, 17, 0]</text>\n",
       "<text text-anchor=\"middle\" x=\"666\" y=\"-111.8\" font-family=\"Times,serif\" font-size=\"14.00\">class = faster</text>\n",
       "</g>\n",
       "<!-- 8&#45;&gt;9 -->\n",
       "<g id=\"edge9\" class=\"edge\">\n",
       "<title>8&#45;&gt;9</title>\n",
       "<path fill=\"none\" stroke=\"black\" d=\"M666,-222.91C666,-214.65 666,-205.86 666,-197.3\"/>\n",
       "<polygon fill=\"black\" stroke=\"black\" points=\"669.5,-197.02 666,-187.02 662.5,-197.02 669.5,-197.02\"/>\n",
       "</g>\n",
       "<!-- 12 -->\n",
       "<g id=\"node13\" class=\"node\">\n",
       "<title>12</title>\n",
       "<polygon fill=\"none\" stroke=\"black\" points=\"975,-187 815,-187 815,-104 975,-104 975,-187\"/>\n",
       "<text text-anchor=\"middle\" x=\"895\" y=\"-171.8\" font-family=\"Times,serif\" font-size=\"14.00\">lonAcceleration &lt;= 0.195</text>\n",
       "<text text-anchor=\"middle\" x=\"895\" y=\"-156.8\" font-family=\"Times,serif\" font-size=\"14.00\">entropy = 0.323</text>\n",
       "<text text-anchor=\"middle\" x=\"895\" y=\"-141.8\" font-family=\"Times,serif\" font-size=\"14.00\">samples = 170</text>\n",
       "<text text-anchor=\"middle\" x=\"895\" y=\"-126.8\" font-family=\"Times,serif\" font-size=\"14.00\">value = [10, 160, 0]</text>\n",
       "<text text-anchor=\"middle\" x=\"895\" y=\"-111.8\" font-family=\"Times,serif\" font-size=\"14.00\">class = slower</text>\n",
       "</g>\n",
       "<!-- 8&#45;&gt;12 -->\n",
       "<g id=\"edge12\" class=\"edge\">\n",
       "<title>8&#45;&gt;12</title>\n",
       "<path fill=\"none\" stroke=\"black\" d=\"M745.45,-222.91C765.17,-212.83 786.42,-201.98 806.54,-191.7\"/>\n",
       "<polygon fill=\"black\" stroke=\"black\" points=\"808.38,-194.69 815.69,-187.02 805.19,-188.45 808.38,-194.69\"/>\n",
       "</g>\n",
       "<!-- 10 -->\n",
       "<g id=\"node11\" class=\"node\">\n",
       "<title>10</title>\n",
       "<polygon fill=\"none\" stroke=\"black\" points=\"681.5,-68 568.5,-68 568.5,0 681.5,0 681.5,-68\"/>\n",
       "<text text-anchor=\"middle\" x=\"625\" y=\"-52.8\" font-family=\"Times,serif\" font-size=\"14.00\">entropy = 0.232</text>\n",
       "<text text-anchor=\"middle\" x=\"625\" y=\"-37.8\" font-family=\"Times,serif\" font-size=\"14.00\">samples = 53</text>\n",
       "<text text-anchor=\"middle\" x=\"625\" y=\"-22.8\" font-family=\"Times,serif\" font-size=\"14.00\">value = [51, 2, 0]</text>\n",
       "<text text-anchor=\"middle\" x=\"625\" y=\"-7.8\" font-family=\"Times,serif\" font-size=\"14.00\">class = faster</text>\n",
       "</g>\n",
       "<!-- 9&#45;&gt;10 -->\n",
       "<g id=\"edge10\" class=\"edge\">\n",
       "<title>9&#45;&gt;10</title>\n",
       "<path fill=\"none\" stroke=\"black\" d=\"M650.73,-103.73C647.56,-95.24 644.2,-86.28 641,-77.73\"/>\n",
       "<polygon fill=\"black\" stroke=\"black\" points=\"644.25,-76.44 637.47,-68.3 637.7,-78.89 644.25,-76.44\"/>\n",
       "</g>\n",
       "<!-- 11 -->\n",
       "<g id=\"node12\" class=\"node\">\n",
       "<title>11</title>\n",
       "<polygon fill=\"none\" stroke=\"black\" points=\"820,-68 700,-68 700,0 820,0 820,-68\"/>\n",
       "<text text-anchor=\"middle\" x=\"760\" y=\"-52.8\" font-family=\"Times,serif\" font-size=\"14.00\">entropy = 0.918</text>\n",
       "<text text-anchor=\"middle\" x=\"760\" y=\"-37.8\" font-family=\"Times,serif\" font-size=\"14.00\">samples = 45</text>\n",
       "<text text-anchor=\"middle\" x=\"760\" y=\"-22.8\" font-family=\"Times,serif\" font-size=\"14.00\">value = [30, 15, 0]</text>\n",
       "<text text-anchor=\"middle\" x=\"760\" y=\"-7.8\" font-family=\"Times,serif\" font-size=\"14.00\">class = faster</text>\n",
       "</g>\n",
       "<!-- 9&#45;&gt;11 -->\n",
       "<g id=\"edge11\" class=\"edge\">\n",
       "<title>9&#45;&gt;11</title>\n",
       "<path fill=\"none\" stroke=\"black\" d=\"M701,-103.73C708.75,-94.7 716.97,-85.12 724.73,-76.08\"/>\n",
       "<polygon fill=\"black\" stroke=\"black\" points=\"727.56,-78.17 731.41,-68.3 722.24,-73.61 727.56,-78.17\"/>\n",
       "</g>\n",
       "<!-- 13 -->\n",
       "<g id=\"node14\" class=\"node\">\n",
       "<title>13</title>\n",
       "<polygon fill=\"none\" stroke=\"black\" points=\"951.5,-68 838.5,-68 838.5,0 951.5,0 951.5,-68\"/>\n",
       "<text text-anchor=\"middle\" x=\"895\" y=\"-52.8\" font-family=\"Times,serif\" font-size=\"14.00\">entropy = 0.84</text>\n",
       "<text text-anchor=\"middle\" x=\"895\" y=\"-37.8\" font-family=\"Times,serif\" font-size=\"14.00\">samples = 26</text>\n",
       "<text text-anchor=\"middle\" x=\"895\" y=\"-22.8\" font-family=\"Times,serif\" font-size=\"14.00\">value = [7, 19, 0]</text>\n",
       "<text text-anchor=\"middle\" x=\"895\" y=\"-7.8\" font-family=\"Times,serif\" font-size=\"14.00\">class = slower</text>\n",
       "</g>\n",
       "<!-- 12&#45;&gt;13 -->\n",
       "<g id=\"edge13\" class=\"edge\">\n",
       "<title>12&#45;&gt;13</title>\n",
       "<path fill=\"none\" stroke=\"black\" d=\"M895,-103.73C895,-95.52 895,-86.86 895,-78.56\"/>\n",
       "<polygon fill=\"black\" stroke=\"black\" points=\"898.5,-78.3 895,-68.3 891.5,-78.3 898.5,-78.3\"/>\n",
       "</g>\n",
       "<!-- 14 -->\n",
       "<g id=\"node15\" class=\"node\">\n",
       "<title>14</title>\n",
       "<polygon fill=\"none\" stroke=\"black\" points=\"1090,-68 970,-68 970,0 1090,0 1090,-68\"/>\n",
       "<text text-anchor=\"middle\" x=\"1030\" y=\"-52.8\" font-family=\"Times,serif\" font-size=\"14.00\">entropy = 0.146</text>\n",
       "<text text-anchor=\"middle\" x=\"1030\" y=\"-37.8\" font-family=\"Times,serif\" font-size=\"14.00\">samples = 144</text>\n",
       "<text text-anchor=\"middle\" x=\"1030\" y=\"-22.8\" font-family=\"Times,serif\" font-size=\"14.00\">value = [3, 141, 0]</text>\n",
       "<text text-anchor=\"middle\" x=\"1030\" y=\"-7.8\" font-family=\"Times,serif\" font-size=\"14.00\">class = slower</text>\n",
       "</g>\n",
       "<!-- 12&#45;&gt;14 -->\n",
       "<g id=\"edge14\" class=\"edge\">\n",
       "<title>12&#45;&gt;14</title>\n",
       "<path fill=\"none\" stroke=\"black\" d=\"M945.27,-103.73C956.96,-94.24 969.4,-84.16 981.04,-74.72\"/>\n",
       "<polygon fill=\"black\" stroke=\"black\" points=\"983.38,-77.32 988.95,-68.3 978.97,-71.88 983.38,-77.32\"/>\n",
       "</g>\n",
       "</g>\n",
       "</svg>\n"
      ],
      "text/plain": [
       "<graphviz.files.Source at 0x7fdcdd763f10>"
      ]
     },
     "execution_count": 48,
     "metadata": {},
     "output_type": "execute_result"
    }
   ],
   "source": [
    "dot_data = tree.export_graphviz(classifier, \n",
    "                  feature_names=X.columns,  \n",
    "                  class_names=class_names, \n",
    "                           )\n",
    "graph = graphviz.Source(dot_data)\n",
    "graph"
   ]
  },
  {
   "cell_type": "code",
   "execution_count": 33,
   "metadata": {},
   "outputs": [],
   "source": [
    "# from joblib import dump, load"
   ]
  },
  {
   "cell_type": "code",
   "execution_count": 34,
   "metadata": {},
   "outputs": [
    {
     "data": {
      "text/plain": [
       "['truck_round.joblib']"
      ]
     },
     "execution_count": 34,
     "metadata": {},
     "output_type": "execute_result"
    }
   ],
   "source": [
    "# dump(classifier, 'truck_round.joblib')"
   ]
  },
  {
   "cell_type": "code",
   "execution_count": 35,
   "metadata": {},
   "outputs": [],
   "source": [
    "# clf = load('truck_round.joblib')"
   ]
  },
  {
   "cell_type": "code",
   "execution_count": 38,
   "metadata": {},
   "outputs": [
    {
     "data": {
      "text/plain": [
       "DecisionTreeClassifier(criterion='entropy', max_depth=3, random_state=42)"
      ]
     },
     "execution_count": 38,
     "metadata": {},
     "output_type": "execute_result"
    }
   ],
   "source": [
    "# clf"
   ]
  },
  {
   "cell_type": "code",
   "execution_count": 44,
   "metadata": {},
   "outputs": [],
   "source": [
    "# from sklearn2pmml.pipeline import PMMLPipeline\n",
    "\n",
    "# pipeline = PMMLPipeline([\n",
    "# (\"classifier\", classifier)\n",
    "# ])"
   ]
  },
  {
   "cell_type": "code",
   "execution_count": 41,
   "metadata": {},
   "outputs": [
    {
     "data": {
      "text/plain": [
       "PMMLPipeline(steps=[('classifier', DecisionTreeClassifier(criterion='entropy', max_depth=3, random_state=42))])"
      ]
     },
     "execution_count": 41,
     "metadata": {},
     "output_type": "execute_result"
    }
   ],
   "source": [
    "# pipeline.fit(X_train, y_train)"
   ]
  },
  {
   "cell_type": "code",
   "execution_count": 45,
   "metadata": {},
   "outputs": [],
   "source": [
    "# from sklearn2pmml import sklearn2pmml\n",
    "\n",
    "# sklearn2pmml(pipeline, \"Decisionmoto2.pmml\", with_repr = True)"
   ]
  },
  {
   "cell_type": "code",
   "execution_count": 50,
   "metadata": {},
   "outputs": [],
   "source": [
    "from pypmml import Model\n",
    "\n",
    "model = Model.fromFile('Decisionmoto2.pmml')\n"
   ]
  },
  {
   "cell_type": "code",
   "execution_count": 57,
   "metadata": {},
   "outputs": [],
   "source": [
    "a = model.predict(X_test)"
   ]
  },
  {
   "cell_type": "code",
   "execution_count": 59,
   "metadata": {},
   "outputs": [],
   "source": [
    "b = classifier.predict(X_test)"
   ]
  },
  {
   "cell_type": "code",
   "execution_count": 63,
   "metadata": {},
   "outputs": [
    {
     "data": {
      "text/plain": [
       "array([2, 2, 1, 0, 1, 1, 0, 0, 1, 1, 1, 0, 1, 2, 1, 1, 2, 1, 1, 1, 2, 2,\n",
       "       2, 1, 1, 1, 1, 0, 1, 2, 1, 1, 1, 1, 2, 1, 2, 1, 1, 1, 1, 0, 2, 1,\n",
       "       1, 1, 2, 1, 2, 2, 1, 0, 1, 0, 0, 0, 0, 0, 2, 1, 2, 1, 0, 0, 2, 2,\n",
       "       1, 1, 1, 1, 2, 1, 0, 1, 1, 2, 2, 1, 1, 1, 0, 1, 2, 0, 1, 0, 1, 2,\n",
       "       0, 1, 2, 1, 2, 1, 1, 1, 1, 2, 0, 0, 0, 2, 1, 2, 2, 0, 1, 1, 1, 0,\n",
       "       0, 0, 1, 1, 2, 2, 1, 1, 2, 0, 0, 1, 0])"
      ]
     },
     "execution_count": 63,
     "metadata": {},
     "output_type": "execute_result"
    }
   ],
   "source": [
    "b"
   ]
  },
  {
   "cell_type": "code",
   "execution_count": 66,
   "metadata": {},
   "outputs": [],
   "source": [
    "from sklearn2pmml.pipeline import PMMLPipeline\n",
    "\n",
    "pipeline = PMMLPipeline([\n",
    "(\"classifier\", DecisionTreeClassifier(criterion='entropy',max_depth=3, random_state=42))\n",
    "])"
   ]
  },
  {
   "cell_type": "code",
   "execution_count": 67,
   "metadata": {},
   "outputs": [
    {
     "data": {
      "text/plain": [
       "PMMLPipeline(steps=[('classifier', DecisionTreeClassifier(criterion='entropy', max_depth=3, random_state=42))])"
      ]
     },
     "execution_count": 67,
     "metadata": {},
     "output_type": "execute_result"
    }
   ],
   "source": [
    "pipeline.fit(X_train, y_train)"
   ]
  },
  {
   "cell_type": "code",
   "execution_count": 69,
   "metadata": {},
   "outputs": [],
   "source": [
    "from sklearn2pmml import sklearn2pmml\n",
    "\n",
    "sklearn2pmml(pipeline, \"Decisionmoto2.pmml\", with_repr = True)"
   ]
  },
  {
   "cell_type": "code",
   "execution_count": 90,
   "metadata": {},
   "outputs": [
    {
     "ename": "ModuleNotFoundError",
     "evalue": "No module named 'sklearn.neural_network.multilayer_perceptron'",
     "output_type": "error",
     "traceback": [
      "\u001b[0;31m---------------------------------------------------------------------------\u001b[0m",
      "\u001b[0;31mModuleNotFoundError\u001b[0m                       Traceback (most recent call last)",
      "\u001b[0;32m<ipython-input-90-3cc629f12684>\u001b[0m in \u001b[0;36m<module>\u001b[0;34m\u001b[0m\n\u001b[1;32m      1\u001b[0m \u001b[0;32mfrom\u001b[0m \u001b[0msklearn_porter\u001b[0m \u001b[0;32mimport\u001b[0m \u001b[0mPorter\u001b[0m\u001b[0;34m\u001b[0m\u001b[0;34m\u001b[0m\u001b[0m\n\u001b[1;32m      2\u001b[0m \u001b[0;34m\u001b[0m\u001b[0m\n\u001b[0;32m----> 3\u001b[0;31m \u001b[0mporter\u001b[0m \u001b[0;34m=\u001b[0m \u001b[0mPorter\u001b[0m\u001b[0;34m(\u001b[0m\u001b[0mclassifier\u001b[0m\u001b[0;34m,\u001b[0m \u001b[0mlanguage\u001b[0m\u001b[0;34m=\u001b[0m\u001b[0;34m'java'\u001b[0m\u001b[0;34m)\u001b[0m\u001b[0;34m\u001b[0m\u001b[0;34m\u001b[0m\u001b[0m\n\u001b[0m\u001b[1;32m      4\u001b[0m \u001b[0moutput\u001b[0m \u001b[0;34m=\u001b[0m \u001b[0mporter\u001b[0m\u001b[0;34m.\u001b[0m\u001b[0mexport\u001b[0m\u001b[0;34m(\u001b[0m\u001b[0mexport_data\u001b[0m\u001b[0;34m=\u001b[0m\u001b[0;32mTrue\u001b[0m\u001b[0;34m)\u001b[0m\u001b[0;34m\u001b[0m\u001b[0;34m\u001b[0m\u001b[0m\n\u001b[1;32m      5\u001b[0m \u001b[0;34m\u001b[0m\u001b[0m\n",
      "\u001b[0;32m~/opt/anaconda3/lib/python3.7/site-packages/sklearn_porter/Porter.py\u001b[0m in \u001b[0;36m__init__\u001b[0;34m(self, estimator, language, method, **kwargs)\u001b[0m\n",
      "\u001b[0;32m~/opt/anaconda3/lib/python3.7/site-packages/sklearn_porter/Porter.py\u001b[0m in \u001b[0;36m_classifiers\u001b[0;34m(self)\u001b[0m\n",
      "\u001b[0;31mModuleNotFoundError\u001b[0m: No module named 'sklearn.neural_network.multilayer_perceptron'"
     ]
    }
   ],
   "source": [
    "from sklearn_porter import Porter\n",
    "\n",
    "porter = Porter(classifier, language='java')\n",
    "output = porter.export(export_data=True)\n",
    "\n",
    "print(output)"
   ]
  },
  {
   "cell_type": "code",
   "execution_count": 92,
   "metadata": {},
   "outputs": [
    {
     "data": {
      "text/plain": [
       "DecisionTreeClassifier(criterion='entropy', max_depth=3, random_state=42)"
      ]
     },
     "execution_count": 92,
     "metadata": {},
     "output_type": "execute_result"
    }
   ],
   "source": [
    "classifier"
   ]
  },
  {
   "cell_type": "code",
   "execution_count": null,
   "metadata": {},
   "outputs": [],
   "source": []
  },
  {
   "cell_type": "code",
   "execution_count": null,
   "metadata": {},
   "outputs": [],
   "source": []
  },
  {
   "cell_type": "code",
   "execution_count": null,
   "metadata": {},
   "outputs": [],
   "source": []
  }
 ],
 "metadata": {
  "kernelspec": {
   "display_name": "Python 3",
   "language": "python",
   "name": "python3"
  },
  "language_info": {
   "codemirror_mode": {
    "name": "ipython",
    "version": 3
   },
   "file_extension": ".py",
   "mimetype": "text/x-python",
   "name": "python",
   "nbconvert_exporter": "python",
   "pygments_lexer": "ipython3",
   "version": "3.7.4"
  }
 },
 "nbformat": 4,
 "nbformat_minor": 2
}
