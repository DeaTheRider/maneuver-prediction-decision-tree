{
 "cells": [
  {
   "cell_type": "code",
   "execution_count": 1,
   "metadata": {},
   "outputs": [],
   "source": [
    "import pandas as pd\n",
    "import numpy as np"
   ]
  },
  {
   "cell_type": "code",
   "execution_count": 104,
   "metadata": {},
   "outputs": [],
   "source": [
    "names_dataset = [\"rounD-dataset-v1.0\", 'inD-dataset-v1.0', \"rounD-dataset-v1.0\"]\n",
    "for i in names_dataset:\n",
    "    num_csv = f\"0{i}\" if len(str(i)) != 2 else str(i)\n",
    "    path = f\"output5/{i}_all.csv\"\n",
    "\n",
    "    df = pd.read_csv(path)\n",
    "    break"
   ]
  },
  {
   "cell_type": "code",
   "execution_count": 105,
   "metadata": {},
   "outputs": [],
   "source": [
    "params = {'criterion': ['gini', 'entropy'],\n",
    "         'max_depth': range(1,10), \n",
    "         'min_samples_split': range(1,10),\n",
    "         'min_samples_leaf': range(1,5)}"
   ]
  },
  {
   "cell_type": "code",
   "execution_count": 106,
   "metadata": {},
   "outputs": [],
   "source": [
    "classes = tuple(set(df['class'].to_list()))"
   ]
  },
  {
   "cell_type": "code",
   "execution_count": 107,
   "metadata": {},
   "outputs": [
    {
     "data": {
      "text/plain": [
       "('car',\n",
       " 'truck',\n",
       " 'trailer',\n",
       " 'pedestrian',\n",
       " 'bus',\n",
       " 'motorcycle',\n",
       " 'van',\n",
       " 'bicycle')"
      ]
     },
     "execution_count": 107,
     "metadata": {},
     "output_type": "execute_result"
    }
   ],
   "source": [
    "classes"
   ]
  },
  {
   "cell_type": "code",
   "execution_count": 108,
   "metadata": {},
   "outputs": [],
   "source": [
    "column3 = ['trackLifetime', 'xCenter', 'yCenter', 'heading', 'width', 'length', 'xVelocity', 'yVelocity', \n",
    "         'xAcceleration', 'yAcceleration', 'lonVelocity','latVelocity', 'lonAcceleration', 'latAcceleration', \n",
    "          '1_yVelocity', '1_xVelocity', '1_yAcceleration', '1_xAcceleration', '1_xCenter', '1_yCenter',\n",
    "           '2_yVelocity', '2_xVelocity', '2_yAcceleration', '2_xAcceleration', '2_xCenter', '2_yCenter',\n",
    "           '3_yVelocity', '3_xVelocity', '3_yAcceleration', '3_xAcceleration', '3_xCenter', '3_yCenter',\n",
    "          '3_distance', '2_distance', '1_distance', 'label']"
   ]
  },
  {
   "cell_type": "code",
   "execution_count": 15,
   "metadata": {},
   "outputs": [],
   "source": [
    "for i in classes:\n",
    "    df2 = df[df['class'] == i]\n",
    "    break"
   ]
  },
  {
   "cell_type": "code",
   "execution_count": 109,
   "metadata": {},
   "outputs": [],
   "source": [
    "df2 = df"
   ]
  },
  {
   "cell_type": "code",
   "execution_count": null,
   "metadata": {},
   "outputs": [],
   "source": []
  },
  {
   "cell_type": "code",
   "execution_count": 155,
   "metadata": {},
   "outputs": [],
   "source": [
    "df2.at[df2['label']=='easy-turn-left', 'label'] = 'easy-turn-left'\n",
    "# df2.at[df2['label']=='turn-left', 'label'] = 'easy-turn-left'"
   ]
  },
  {
   "cell_type": "code",
   "execution_count": null,
   "metadata": {},
   "outputs": [],
   "source": []
  },
  {
   "cell_type": "code",
   "execution_count": 171,
   "metadata": {},
   "outputs": [],
   "source": [
    "df3 = df2[(df2['class'] == 'bicycle') | (df2['class'] == 'motorcycle')]\n",
    "# df3.at[df3['label']=='easy-turn-left', 'label'] = 'easy-turn-right'\n",
    "\n",
    "\n",
    "df3 = df3[column3]"
   ]
  },
  {
   "cell_type": "code",
   "execution_count": 163,
   "metadata": {},
   "outputs": [],
   "source": [
    "X = df3.drop('label', axis=1)\n",
    "y = df3['label']\n",
    "y,class_names = pd.factorize(y)\n",
    "from sklearn.model_selection import train_test_split\n",
    "X_train, X_test, y_train, y_test = train_test_split(X, y, test_size = 0.25, stratify=y, random_state = 42)"
   ]
  },
  {
   "cell_type": "code",
   "execution_count": 164,
   "metadata": {},
   "outputs": [],
   "source": [
    "from sklearn.model_selection import train_test_split, GridSearchCV\n",
    "\n"
   ]
  },
  {
   "cell_type": "code",
   "execution_count": null,
   "metadata": {},
   "outputs": [],
   "source": []
  },
  {
   "cell_type": "code",
   "execution_count": 166,
   "metadata": {},
   "outputs": [],
   "source": [
    "from sklearn.tree import DecisionTreeClassifier\n",
    "decision_tree = DecisionTreeClassifier()\n",
    "\n"
   ]
  },
  {
   "cell_type": "code",
   "execution_count": 167,
   "metadata": {},
   "outputs": [],
   "source": [
    "clf = GridSearchCV(decision_tree, param_grid=params, cv=4, verbose=1, n_jobs=-1)"
   ]
  },
  {
   "cell_type": "code",
   "execution_count": 168,
   "metadata": {},
   "outputs": [
    {
     "name": "stdout",
     "output_type": "stream",
     "text": [
      "Fitting 4 folds for each of 648 candidates, totalling 2592 fits\n"
     ]
    },
    {
     "name": "stderr",
     "output_type": "stream",
     "text": [
      "/Users/nikolaj/opt/anaconda3/lib/python3.7/site-packages/sklearn/model_selection/_search.py:925: UserWarning: One or more of the test scores are non-finite: [       nan 0.72619048 0.72619048 0.72619048 0.72619048 0.72619048\n",
      " 0.72619048 0.72619048 0.72619048        nan 0.72619048 0.72619048\n",
      " 0.72619048 0.72619048 0.72619048 0.72619048 0.72619048 0.72619048\n",
      "        nan 0.72619048 0.72619048 0.72619048 0.72619048 0.72619048\n",
      " 0.72619048 0.72619048 0.72619048        nan 0.72619048 0.72619048\n",
      " 0.72619048 0.72619048 0.72619048 0.72619048 0.72619048 0.72619048\n",
      "        nan 0.74404762 0.74404762 0.74404762 0.74404762 0.74404762\n",
      " 0.74404762 0.74404762 0.74404762        nan 0.74404762 0.74404762\n",
      " 0.74404762 0.74404762 0.74404762 0.74404762 0.74404762 0.74404762\n",
      "        nan 0.74404762 0.74404762 0.74404762 0.74404762 0.74404762\n",
      " 0.74404762 0.74404762 0.74404762        nan 0.74404762 0.74404762\n",
      " 0.74404762 0.74404762 0.74404762 0.74404762 0.74404762 0.74404762\n",
      "        nan 0.73809524 0.73809524 0.73214286 0.73809524 0.73809524\n",
      " 0.73809524 0.73809524 0.73809524        nan 0.73809524 0.73809524\n",
      " 0.73214286 0.73214286 0.73809524 0.73214286 0.73214286 0.74404762\n",
      "        nan 0.73809524 0.74404762 0.73809524 0.73809524 0.74404762\n",
      " 0.73809524 0.73809524 0.74404762        nan 0.72619048 0.72619048\n",
      " 0.73214286 0.72619048 0.7202381  0.72619048 0.72619048 0.73214286\n",
      "        nan 0.69642857 0.69047619 0.69642857 0.69047619 0.69047619\n",
      " 0.7202381  0.71428571 0.7202381         nan 0.69642857 0.68452381\n",
      " 0.69642857 0.69047619 0.70238095 0.71428571 0.71428571 0.72619048\n",
      "        nan 0.69047619 0.68452381 0.69642857 0.69047619 0.68452381\n",
      " 0.70238095 0.70833333 0.7202381         nan 0.72619048 0.7202381\n",
      " 0.72619048 0.72619048 0.7202381  0.72619048 0.71428571 0.70833333\n",
      "        nan 0.68452381 0.69642857 0.67857143 0.68452381 0.68452381\n",
      " 0.70238095 0.70833333 0.7202381         nan 0.69047619 0.69642857\n",
      " 0.69047619 0.68452381 0.68452381 0.70833333 0.70833333 0.71428571\n",
      "        nan 0.70238095 0.70238095 0.69047619 0.70833333 0.70238095\n",
      " 0.72619048 0.7202381  0.72619048        nan 0.73809524 0.73214286\n",
      " 0.72619048 0.73809524 0.73809524 0.72619048 0.73809524 0.7202381\n",
      "        nan 0.67261905 0.69047619 0.68452381 0.69047619 0.67857143\n",
      " 0.70238095 0.70833333 0.70833333        nan 0.67857143 0.67857143\n",
      " 0.69047619 0.69047619 0.67261905 0.71428571 0.69642857 0.7202381\n",
      "        nan 0.69047619 0.69642857 0.69642857 0.71428571 0.69642857\n",
      " 0.69642857 0.7202381  0.73809524        nan 0.74404762 0.73809524\n",
      " 0.73214286 0.73214286 0.74404762 0.73214286 0.73214286 0.7202381\n",
      "        nan 0.67857143 0.66666667 0.69047619 0.67261905 0.66666667\n",
      " 0.70833333 0.71428571 0.7202381         nan 0.70238095 0.68452381\n",
      " 0.69642857 0.69642857 0.67857143 0.70238095 0.70833333 0.70833333\n",
      "        nan 0.69642857 0.70238095 0.69047619 0.69642857 0.67857143\n",
      " 0.7202381  0.7202381  0.7202381         nan 0.74404762 0.72619048\n",
      " 0.73809524 0.73809524 0.7202381  0.73214286 0.73809524 0.71428571\n",
      "        nan 0.67857143 0.69047619 0.67857143 0.68452381 0.67857143\n",
      " 0.69642857 0.70238095 0.70238095        nan 0.68452381 0.70238095\n",
      " 0.67857143 0.69047619 0.69047619 0.71428571 0.71428571 0.70833333\n",
      "        nan 0.70238095 0.69047619 0.69642857 0.70833333 0.68452381\n",
      " 0.7202381  0.72619048 0.7202381         nan 0.73809524 0.72619048\n",
      " 0.72619048 0.73214286 0.73809524 0.73809524 0.73809524 0.72619048\n",
      "        nan 0.67857143 0.67261905 0.68452381 0.66666667 0.67857143\n",
      " 0.69047619 0.67857143 0.69642857        nan 0.68452381 0.67261905\n",
      " 0.69047619 0.69642857 0.68452381 0.70833333 0.7202381  0.7202381\n",
      "        nan 0.71428571 0.67857143 0.70238095 0.69047619 0.70238095\n",
      " 0.72619048 0.71428571 0.7202381         nan 0.73809524 0.73214286\n",
      " 0.72619048 0.73214286 0.72619048 0.73809524 0.73809524 0.7202381\n",
      "        nan 0.64880952 0.64880952 0.64880952 0.64880952 0.64880952\n",
      " 0.64880952 0.64880952 0.64880952        nan 0.64880952 0.64880952\n",
      " 0.64880952 0.64880952 0.64880952 0.64880952 0.64880952 0.64880952\n",
      "        nan 0.64880952 0.64880952 0.64880952 0.64880952 0.64880952\n",
      " 0.64880952 0.64880952 0.64880952        nan 0.64880952 0.64880952\n",
      " 0.64880952 0.64880952 0.64880952 0.64880952 0.64880952 0.64880952\n",
      "        nan 0.70833333 0.70833333 0.70833333 0.70833333 0.70833333\n",
      " 0.70833333 0.70833333 0.70833333        nan 0.70833333 0.70833333\n",
      " 0.70833333 0.70833333 0.70833333 0.70833333 0.70833333 0.70833333\n",
      "        nan 0.70833333 0.70833333 0.70833333 0.70833333 0.70833333\n",
      " 0.70833333 0.70833333 0.70833333        nan 0.70833333 0.70833333\n",
      " 0.70833333 0.70833333 0.70833333 0.70833333 0.70833333 0.70833333\n",
      "        nan 0.77380952 0.77380952 0.77380952 0.77380952 0.77380952\n",
      " 0.78571429 0.78571429 0.79166667        nan 0.77380952 0.77380952\n",
      " 0.7797619  0.77380952 0.77380952 0.78571429 0.78571429 0.79166667\n",
      "        nan 0.7797619  0.77380952 0.77380952 0.77380952 0.7797619\n",
      " 0.78571429 0.78571429 0.79166667        nan 0.78571429 0.78571429\n",
      " 0.78571429 0.78571429 0.78571429 0.78571429 0.78571429 0.79166667\n",
      "        nan 0.76785714 0.78571429 0.7797619  0.76785714 0.77380952\n",
      " 0.79166667 0.79166667 0.78571429        nan 0.77380952 0.7797619\n",
      " 0.78571429 0.7797619  0.76785714 0.79166667 0.7797619  0.79761905\n",
      "        nan 0.78571429 0.76785714 0.78571429 0.78571429 0.78571429\n",
      " 0.79166667 0.79166667 0.78571429        nan 0.78571429 0.78571429\n",
      " 0.79761905 0.78571429 0.78571429 0.78571429 0.78571429 0.79166667\n",
      "        nan 0.7797619  0.79761905 0.79166667 0.79166667 0.79166667\n",
      " 0.79761905 0.79166667 0.80357143        nan 0.79166667 0.79761905\n",
      " 0.78571429 0.78571429 0.7797619  0.79166667 0.79761905 0.79761905\n",
      "        nan 0.78571429 0.79166667 0.78571429 0.7797619  0.78571429\n",
      " 0.78571429 0.79166667 0.79166667        nan 0.7797619  0.7797619\n",
      " 0.77380952 0.7797619  0.7797619  0.77380952 0.7797619  0.7797619\n",
      "        nan 0.76785714 0.76785714 0.77380952 0.76190476 0.76190476\n",
      " 0.7797619  0.7797619  0.79166667        nan 0.79761905 0.79166667\n",
      " 0.7797619  0.7797619  0.7797619  0.79761905 0.78571429 0.7797619\n",
      "        nan 0.76190476 0.75595238 0.75       0.76785714 0.75595238\n",
      " 0.76190476 0.76190476 0.77380952        nan 0.78571429 0.7797619\n",
      " 0.7797619  0.7797619  0.7797619  0.7797619  0.7797619  0.78571429\n",
      "        nan 0.7797619  0.7797619  0.78571429 0.7797619  0.7797619\n",
      " 0.79166667 0.78571429 0.78571429        nan 0.79761905 0.79761905\n",
      " 0.7797619  0.79166667 0.79166667 0.79166667 0.79166667 0.7797619\n",
      "        nan 0.7797619  0.76785714 0.77380952 0.79166667 0.7797619\n",
      " 0.79166667 0.79761905 0.78571429        nan 0.74404762 0.75\n",
      " 0.75595238 0.73214286 0.75595238 0.75       0.73214286 0.75595238\n",
      "        nan 0.77380952 0.76785714 0.76785714 0.76190476 0.76785714\n",
      " 0.76785714 0.76785714 0.77380952        nan 0.76785714 0.76190476\n",
      " 0.76785714 0.75595238 0.75595238 0.76785714 0.77380952 0.7797619\n",
      "        nan 0.76190476 0.75       0.75       0.75       0.74404762\n",
      " 0.76785714 0.77380952 0.7797619         nan 0.75       0.7202381\n",
      " 0.75       0.75       0.75       0.70833333 0.73214286 0.7202381\n",
      "        nan 0.76190476 0.77380952 0.77380952 0.76190476 0.76785714\n",
      " 0.76190476 0.76785714 0.76785714        nan 0.76785714 0.75595238\n",
      " 0.76190476 0.76190476 0.76190476 0.75       0.77380952 0.7797619\n",
      "        nan 0.75       0.75595238 0.76190476 0.75595238 0.76190476\n",
      " 0.76190476 0.75595238 0.7797619         nan 0.72619048 0.72619048\n",
      " 0.76190476 0.76190476 0.76190476 0.77380952 0.76190476 0.76785714]\n",
      "  category=UserWarning\n"
     ]
    },
    {
     "data": {
      "text/plain": [
       "GridSearchCV(cv=4, estimator=DecisionTreeClassifier(), n_jobs=-1,\n",
       "             param_grid={'criterion': ['gini', 'entropy'],\n",
       "                         'max_depth': range(1, 10),\n",
       "                         'min_samples_leaf': range(1, 5),\n",
       "                         'min_samples_split': range(1, 10)},\n",
       "             verbose=1)"
      ]
     },
     "execution_count": 168,
     "metadata": {},
     "output_type": "execute_result"
    }
   ],
   "source": [
    "clf.fit(X_train, y_train)"
   ]
  },
  {
   "cell_type": "code",
   "execution_count": 169,
   "metadata": {},
   "outputs": [],
   "source": [
    "import json\n",
    "with open(f'bus-round-dataset-v1.0-.json', 'w') as f:\n",
    "    json.dump(clf.best_params_, f)"
   ]
  },
  {
   "cell_type": "code",
   "execution_count": 46,
   "metadata": {},
   "outputs": [],
   "source": []
  },
  {
   "cell_type": "code",
   "execution_count": null,
   "metadata": {},
   "outputs": [],
   "source": []
  },
  {
   "cell_type": "code",
   "execution_count": null,
   "metadata": {},
   "outputs": [],
   "source": []
  },
  {
   "cell_type": "code",
   "execution_count": 50,
   "metadata": {},
   "outputs": [
    {
     "data": {
      "text/plain": [
       "'truck_bus'"
      ]
     },
     "execution_count": 50,
     "metadata": {},
     "output_type": "execute_result"
    }
   ],
   "source": [
    "i"
   ]
  },
  {
   "cell_type": "code",
   "execution_count": 51,
   "metadata": {},
   "outputs": [],
   "source": []
  },
  {
   "cell_type": "code",
   "execution_count": null,
   "metadata": {},
   "outputs": [],
   "source": []
  }
 ],
 "metadata": {
  "kernelspec": {
   "display_name": "Python 3",
   "language": "python",
   "name": "python3"
  },
  "language_info": {
   "codemirror_mode": {
    "name": "ipython",
    "version": 3
   },
   "file_extension": ".py",
   "mimetype": "text/x-python",
   "name": "python",
   "nbconvert_exporter": "python",
   "pygments_lexer": "ipython3",
   "version": "3.7.4"
  }
 },
 "nbformat": 4,
 "nbformat_minor": 2
}
