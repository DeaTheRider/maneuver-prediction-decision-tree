{
 "cells": [
  {
   "cell_type": "code",
   "execution_count": 1,
   "metadata": {},
   "outputs": [],
   "source": [
    "import pandas as pd\n",
    "import numpy as np"
   ]
  },
  {
   "cell_type": "code",
   "execution_count": 2,
   "metadata": {},
   "outputs": [],
   "source": []
  },
  {
   "cell_type": "code",
   "execution_count": 3,
   "metadata": {},
   "outputs": [
    {
     "name": "stdout",
     "output_type": "stream",
     "text": [
      "Collecting git+https://github.com/jpmml/sklearn2pmml.git\n",
      "  Cloning https://github.com/jpmml/sklearn2pmml.git to /private/var/folders/99/szxm31qn4q31y4dtr8z90j1h0000gn/T/pip-req-build-eca32n2l\n",
      "  Running command git clone -q https://github.com/jpmml/sklearn2pmml.git /private/var/folders/99/szxm31qn4q31y4dtr8z90j1h0000gn/T/pip-req-build-eca32n2l\n",
      "  Resolved https://github.com/jpmml/sklearn2pmml.git to commit 6b4230f9f9d05386ab6787b12711634e5e1621ee\n",
      "Collecting joblib>=0.13.0\n",
      "  Using cached joblib-1.0.1-py3-none-any.whl (303 kB)\n",
      "Collecting scikit-learn>=0.18.0\n",
      "  Using cached scikit_learn-0.24.2-cp39-cp39-macosx_10_13_x86_64.whl (7.3 MB)\n",
      "Collecting sklearn-pandas>=0.0.10\n",
      "  Downloading sklearn_pandas-2.2.0-py2.py3-none-any.whl (10 kB)\n",
      "Collecting threadpoolctl>=2.0.0\n",
      "  Using cached threadpoolctl-2.2.0-py3-none-any.whl (12 kB)\n",
      "Collecting scipy>=0.19.1\n",
      "  Using cached scipy-1.7.1-cp39-cp39-macosx_10_9_x86_64.whl (32.8 MB)\n",
      "Collecting numpy>=1.13.3\n",
      "  Using cached numpy-1.21.2-cp39-cp39-macosx_10_9_x86_64.whl (17.0 MB)\n",
      "Collecting pandas>=1.1.4\n",
      "  Downloading pandas-1.3.2-cp39-cp39-macosx_10_9_x86_64.whl (11.6 MB)\n",
      "\u001b[K     |████████████████████████████████| 11.6 MB 1.9 MB/s eta 0:00:01    |█▎                              | 450 kB 1.8 MB/s eta 0:00:07\n",
      "\u001b[?25hRequirement already satisfied: pytz>=2017.3 in /Library/Frameworks/Python.framework/Versions/3.9/lib/python3.9/site-packages (from pandas>=1.1.4->sklearn-pandas>=0.0.10->sklearn2pmml==0.74.0) (2021.1)\n",
      "Requirement already satisfied: python-dateutil>=2.7.3 in /Library/Frameworks/Python.framework/Versions/3.9/lib/python3.9/site-packages (from pandas>=1.1.4->sklearn-pandas>=0.0.10->sklearn2pmml==0.74.0) (2.8.2)\n",
      "Requirement already satisfied: six>=1.5 in /Library/Frameworks/Python.framework/Versions/3.9/lib/python3.9/site-packages (from python-dateutil>=2.7.3->pandas>=1.1.4->sklearn-pandas>=0.0.10->sklearn2pmml==0.74.0) (1.16.0)\n",
      "Using legacy 'setup.py install' for sklearn2pmml, since package 'wheel' is not installed.\n",
      "Installing collected packages: numpy, threadpoolctl, scipy, joblib, scikit-learn, pandas, sklearn-pandas, sklearn2pmml\n",
      "    Running setup.py install for sklearn2pmml ... \u001b[?25ldone\n",
      "\u001b[?25hSuccessfully installed joblib-1.0.1 numpy-1.21.2 pandas-1.3.2 scikit-learn-0.24.2 scipy-1.7.1 sklearn-pandas-2.2.0 sklearn2pmml-0.74.0 threadpoolctl-2.2.0\n"
     ]
    }
   ],
   "source": [
    "!pip3 install git+https://github.com/jpmml/sklearn2pmml.git\n"
   ]
  },
  {
   "cell_type": "code",
   "execution_count": null,
   "metadata": {},
   "outputs": [],
   "source": [
    "names_dataset = [\"rounD-dataset-v1.0\", 'inD-dataset-v1.0']\n",
    "for i in names_dataset:\n",
    "    df = pd.DataFrame()\n",
    "    \n",
    "    \n",
    "    "
   ]
  }
 ],
 "metadata": {
  "kernelspec": {
   "display_name": "Python 3",
   "language": "python",
   "name": "python3"
  },
  "language_info": {
   "codemirror_mode": {
    "name": "ipython",
    "version": 3
   },
   "file_extension": ".py",
   "mimetype": "text/x-python",
   "name": "python",
   "nbconvert_exporter": "python",
   "pygments_lexer": "ipython3",
   "version": "3.7.4"
  }
 },
 "nbformat": 4,
 "nbformat_minor": 2
}
